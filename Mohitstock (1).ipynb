{
  "nbformat": 4,
  "nbformat_minor": 0,
  "metadata": {
    "colab": {
      "name": "Mohitstock.ipynb",
      "provenance": [],
      "collapsed_sections": []
    },
    "kernelspec": {
      "name": "python3",
      "display_name": "Python 3"
    }
  },
  "cells": [
    {
      "cell_type": "code",
      "metadata": {
        "id": "b_VDZEEZnSJG",
        "colab_type": "code",
        "colab": {}
      },
      "source": [
        "import pandas as pd\n",
        "import numpy as np\n",
        "import matplotlib.pyplot as plt\n"
      ],
      "execution_count": 0,
      "outputs": []
    },
    {
      "cell_type": "code",
      "metadata": {
        "id": "oELfOe8AsnZu",
        "colab_type": "code",
        "colab": {
          "base_uri": "https://localhost:8080/",
          "height": 122
        },
        "outputId": "70aed2d3-1441-4eef-c919-1dba23e42a44"
      },
      "source": [
        "from google.colab import drive\n",
        "drive.mount('/content/driver')"
      ],
      "execution_count": 8,
      "outputs": [
        {
          "output_type": "stream",
          "text": [
            "Go to this URL in a browser: https://accounts.google.com/o/oauth2/auth?client_id=947318989803-6bn6qk8qdgf4n4g3pfee6491hc0brc4i.apps.googleusercontent.com&redirect_uri=urn%3aietf%3awg%3aoauth%3a2.0%3aoob&response_type=code&scope=email%20https%3a%2f%2fwww.googleapis.com%2fauth%2fdocs.test%20https%3a%2f%2fwww.googleapis.com%2fauth%2fdrive%20https%3a%2f%2fwww.googleapis.com%2fauth%2fdrive.photos.readonly%20https%3a%2f%2fwww.googleapis.com%2fauth%2fpeopleapi.readonly\n",
            "\n",
            "Enter your authorization code:\n",
            "··········\n",
            "Mounted at /content/driver\n"
          ],
          "name": "stdout"
        }
      ]
    },
    {
      "cell_type": "code",
      "metadata": {
        "id": "hJS4ccp8szMW",
        "colab_type": "code",
        "colab": {
          "base_uri": "https://localhost:8080/",
          "height": 419
        },
        "outputId": "82725896-d26e-4b88-e3c7-41d7d7dbebe2"
      },
      "source": [
        "dataset=pd.read_csv(r'/content/driver/My Drive/info1.csv')\n",
        "dataset\n",
        "\n",
        "\n",
        "\n"
      ],
      "execution_count": 9,
      "outputs": [
        {
          "output_type": "execute_result",
          "data": {
            "text/html": [
              "<div>\n",
              "<style scoped>\n",
              "    .dataframe tbody tr th:only-of-type {\n",
              "        vertical-align: middle;\n",
              "    }\n",
              "\n",
              "    .dataframe tbody tr th {\n",
              "        vertical-align: top;\n",
              "    }\n",
              "\n",
              "    .dataframe thead th {\n",
              "        text-align: right;\n",
              "    }\n",
              "</style>\n",
              "<table border=\"1\" class=\"dataframe\">\n",
              "  <thead>\n",
              "    <tr style=\"text-align: right;\">\n",
              "      <th></th>\n",
              "      <th>Date</th>\n",
              "      <th>Open</th>\n",
              "      <th>High</th>\n",
              "      <th>Low</th>\n",
              "      <th>Close</th>\n",
              "      <th>Adj Close</th>\n",
              "      <th>Volume</th>\n",
              "    </tr>\n",
              "  </thead>\n",
              "  <tbody>\n",
              "    <tr>\n",
              "      <th>0</th>\n",
              "      <td>11/27/2018</td>\n",
              "      <td>625.50</td>\n",
              "      <td>641.00</td>\n",
              "      <td>625.30</td>\n",
              "      <td>638.90</td>\n",
              "      <td>615.69</td>\n",
              "      <td>12285851</td>\n",
              "    </tr>\n",
              "    <tr>\n",
              "      <th>1</th>\n",
              "      <td>11/28/2018</td>\n",
              "      <td>640.95</td>\n",
              "      <td>668.70</td>\n",
              "      <td>640.00</td>\n",
              "      <td>666.40</td>\n",
              "      <td>642.19</td>\n",
              "      <td>17719890</td>\n",
              "    </tr>\n",
              "    <tr>\n",
              "      <th>2</th>\n",
              "      <td>11/29/2018</td>\n",
              "      <td>671.00</td>\n",
              "      <td>674.90</td>\n",
              "      <td>658.80</td>\n",
              "      <td>661.05</td>\n",
              "      <td>637.03</td>\n",
              "      <td>13399070</td>\n",
              "    </tr>\n",
              "    <tr>\n",
              "      <th>3</th>\n",
              "      <td>11/30/2018</td>\n",
              "      <td>661.00</td>\n",
              "      <td>672.00</td>\n",
              "      <td>660.95</td>\n",
              "      <td>667.45</td>\n",
              "      <td>643.20</td>\n",
              "      <td>10445773</td>\n",
              "    </tr>\n",
              "    <tr>\n",
              "      <th>4</th>\n",
              "      <td>12/3/2018</td>\n",
              "      <td>673.15</td>\n",
              "      <td>679.00</td>\n",
              "      <td>665.95</td>\n",
              "      <td>670.35</td>\n",
              "      <td>645.99</td>\n",
              "      <td>8260890</td>\n",
              "    </tr>\n",
              "    <tr>\n",
              "      <th>...</th>\n",
              "      <td>...</td>\n",
              "      <td>...</td>\n",
              "      <td>...</td>\n",
              "      <td>...</td>\n",
              "      <td>...</td>\n",
              "      <td>...</td>\n",
              "      <td>...</td>\n",
              "    </tr>\n",
              "    <tr>\n",
              "      <th>237</th>\n",
              "      <td>11/21/2019</td>\n",
              "      <td>715.50</td>\n",
              "      <td>721.45</td>\n",
              "      <td>710.50</td>\n",
              "      <td>713.25</td>\n",
              "      <td>713.25</td>\n",
              "      <td>9692973</td>\n",
              "    </tr>\n",
              "    <tr>\n",
              "      <th>238</th>\n",
              "      <td>11/22/2019</td>\n",
              "      <td>711.75</td>\n",
              "      <td>712.00</td>\n",
              "      <td>685.10</td>\n",
              "      <td>693.20</td>\n",
              "      <td>693.20</td>\n",
              "      <td>14415826</td>\n",
              "    </tr>\n",
              "    <tr>\n",
              "      <th>239</th>\n",
              "      <td>11/25/2019</td>\n",
              "      <td>693.35</td>\n",
              "      <td>705.15</td>\n",
              "      <td>693.20</td>\n",
              "      <td>698.10</td>\n",
              "      <td>698.10</td>\n",
              "      <td>7334511</td>\n",
              "    </tr>\n",
              "    <tr>\n",
              "      <th>240</th>\n",
              "      <td>11/26/2019</td>\n",
              "      <td>705.00</td>\n",
              "      <td>707.25</td>\n",
              "      <td>686.00</td>\n",
              "      <td>690.60</td>\n",
              "      <td>690.60</td>\n",
              "      <td>27252999</td>\n",
              "    </tr>\n",
              "    <tr>\n",
              "      <th>241</th>\n",
              "      <td>11/27/2019</td>\n",
              "      <td>694.25</td>\n",
              "      <td>697.65</td>\n",
              "      <td>690.10</td>\n",
              "      <td>695.75</td>\n",
              "      <td>695.75</td>\n",
              "      <td>3859538</td>\n",
              "    </tr>\n",
              "  </tbody>\n",
              "</table>\n",
              "<p>242 rows × 7 columns</p>\n",
              "</div>"
            ],
            "text/plain": [
              "           Date    Open    High     Low   Close  Adj Close    Volume\n",
              "0    11/27/2018  625.50  641.00  625.30  638.90     615.69  12285851\n",
              "1    11/28/2018  640.95  668.70  640.00  666.40     642.19  17719890\n",
              "2    11/29/2018  671.00  674.90  658.80  661.05     637.03  13399070\n",
              "3    11/30/2018  661.00  672.00  660.95  667.45     643.20  10445773\n",
              "4     12/3/2018  673.15  679.00  665.95  670.35     645.99   8260890\n",
              "..          ...     ...     ...     ...     ...        ...       ...\n",
              "237  11/21/2019  715.50  721.45  710.50  713.25     713.25   9692973\n",
              "238  11/22/2019  711.75  712.00  685.10  693.20     693.20  14415826\n",
              "239  11/25/2019  693.35  705.15  693.20  698.10     698.10   7334511\n",
              "240  11/26/2019  705.00  707.25  686.00  690.60     690.60  27252999\n",
              "241  11/27/2019  694.25  697.65  690.10  695.75     695.75   3859538\n",
              "\n",
              "[242 rows x 7 columns]"
            ]
          },
          "metadata": {
            "tags": []
          },
          "execution_count": 9
        }
      ]
    },
    {
      "cell_type": "code",
      "metadata": {
        "id": "bMkXk1X8HRB0",
        "colab_type": "code",
        "colab": {
          "base_uri": "https://localhost:8080/",
          "height": 588
        },
        "outputId": "4e8299f8-7afd-41bd-b05d-561d0b8daacf"
      },
      "source": [
        "plt.figure(figsize=(15,5))\n",
        "plt.title('Infosys One year Dataset')\n",
        "plt.xlabel('Date')\n",
        "plt.ylabel('Stock Open prices ')\n",
        "plt.plot(dataset['Open'])\n",
        "plt.xticks(np.arange(0,241,20),dataset['Date'][0:241:20])\n"
      ],
      "execution_count": 10,
      "outputs": [
        {
          "output_type": "execute_result",
          "data": {
            "text/plain": [
              "([<matplotlib.axis.XTick at 0x7f9f4f6046a0>,\n",
              "  <matplotlib.axis.XTick at 0x7f9f4f66af98>,\n",
              "  <matplotlib.axis.XTick at 0x7f9f4f66ac88>,\n",
              "  <matplotlib.axis.XTick at 0x7f9f4f62af28>,\n",
              "  <matplotlib.axis.XTick at 0x7f9f4f5be438>,\n",
              "  <matplotlib.axis.XTick at 0x7f9f4f5be940>,\n",
              "  <matplotlib.axis.XTick at 0x7f9f4f5beeb8>,\n",
              "  <matplotlib.axis.XTick at 0x7f9f4f5be7b8>,\n",
              "  <matplotlib.axis.XTick at 0x7f9f4f5c6390>,\n",
              "  <matplotlib.axis.XTick at 0x7f9f4f5c6a20>,\n",
              "  <matplotlib.axis.XTick at 0x7f9f4f5c6e80>,\n",
              "  <matplotlib.axis.XTick at 0x7f9f4f5cf550>,\n",
              "  <matplotlib.axis.XTick at 0x7f9f4f5cfac8>],\n",
              " <a list of 13 Text xticklabel objects>)"
            ]
          },
          "metadata": {
            "tags": []
          },
          "execution_count": 10
        },
        {
          "output_type": "display_data",
          "data": {
            "image/png": "[encoded data removed]",
            "text/plain": [
              "<Figure size 1080x360 with 1 Axes>"
            ]
          },
          "metadata": {
            "tags": []
          }
        }
      ]
    },
    {
      "cell_type": "code",
      "metadata": {
        "id": "l43ZhKVhIw_D",
        "colab_type": "code",
        "colab": {
          "base_uri": "https://localhost:8080/",
          "height": 34
        },
        "outputId": "87bedcea-55ad-4898-9350-777201f89b69"
      },
      "source": [
        "x=np.mean(dataset['Open'])\n",
        "x"
      ],
      "execution_count": 13,
      "outputs": [
        {
          "output_type": "execute_result",
          "data": {
            "text/plain": [
              "736.1247933884292"
            ]
          },
          "metadata": {
            "tags": []
          },
          "execution_count": 13
        }
      ]
    },
    {
      "cell_type": "code",
      "metadata": {
        "id": "y1iLiTmrI3gg",
        "colab_type": "code",
        "colab": {
          "base_uri": "https://localhost:8080/",
          "height": 34
        },
        "outputId": "b08e56a6-9277-413f-c795-969b503c8240"
      },
      "source": [
        "y=np.std(dataset['Open'])\n",
        "y"
      ],
      "execution_count": 14,
      "outputs": [
        {
          "output_type": "execute_result",
          "data": {
            "text/plain": [
              "45.095987674028756"
            ]
          },
          "metadata": {
            "tags": []
          },
          "execution_count": 14
        }
      ]
    },
    {
      "cell_type": "code",
      "metadata": {
        "id": "1Aa3_-InJAlc",
        "colab_type": "code",
        "colab": {}
      },
      "source": [
        "\n",
        "import numpy as np\n",
        "import pandas as pd\n",
        "import matplotlib.pyplot as plt\n",
        "from pandas.plotting import lag_plot\n",
        "from pandas import datetime\n",
        "from statsmodels.tsa.arima_model import ARIMA\n",
        "from sklearn.metrics import mean_squared_error\n"
      ],
      "execution_count": 0,
      "outputs": []
    },
    {
      "cell_type": "code",
      "metadata": {
        "id": "GgN0Nq-JJUVV",
        "colab_type": "code",
        "colab": {
          "base_uri": "https://localhost:8080/",
          "height": 153
        },
        "outputId": "652a5a1c-cce9-4b0b-bb74-827338e6810d"
      },
      "source": [
        "dataset.isnull().any()"
      ],
      "execution_count": 16,
      "outputs": [
        {
          "output_type": "execute_result",
          "data": {
            "text/plain": [
              "Date         False\n",
              "Open         False\n",
              "High         False\n",
              "Low          False\n",
              "Close        False\n",
              "Adj Close    False\n",
              "Volume       False\n",
              "dtype: bool"
            ]
          },
          "metadata": {
            "tags": []
          },
          "execution_count": 16
        }
      ]
    },
    {
      "cell_type": "code",
      "metadata": {
        "id": "rOk_laqNJhlI",
        "colab_type": "code",
        "colab": {
          "base_uri": "https://localhost:8080/",
          "height": 367
        },
        "outputId": "fbe99050-1598-4df8-e36e-1cbb30390e6f"
      },
      "source": [
        "plt.figure(figsize=(5,5))#to set the size of figure\n",
        "lag_plot(dataset['Open'],lag=5)\n",
        "plt.title(\"Infosys stock data\")"
      ],
      "execution_count": 17,
      "outputs": [
        {
          "output_type": "execute_result",
          "data": {
            "text/plain": [
              "Text(0.5, 1.0, 'Infosys stock data')"
            ]
          },
          "metadata": {
            "tags": []
          },
          "execution_count": 17
        },
        {
          "output_type": "display_data",
          "data": {
            "image/png": "[encoded data removed]",
            "text/plain": [
              "<Figure size 360x360 with 1 Axes>"
            ]
          },
          "metadata": {
            "tags": []
          }
        }
      ]
    },
    {
      "cell_type": "code",
      "metadata": {
        "id": "RSuZ-HfzKVMO",
        "colab_type": "code",
        "colab": {
          "base_uri": "https://localhost:8080/",
          "height": 34
        },
        "outputId": "3c88cd49-6cd1-4057-e769-d017c9697594"
      },
      "source": [
        "a=int(len(dataset)*0.8)\n",
        "a"
      ],
      "execution_count": 18,
      "outputs": [
        {
          "output_type": "execute_result",
          "data": {
            "text/plain": [
              "193"
            ]
          },
          "metadata": {
            "tags": []
          },
          "execution_count": 18
        }
      ]
    },
    {
      "cell_type": "code",
      "metadata": {
        "id": "72tiU8sgKfkA",
        "colab_type": "code",
        "colab": {
          "base_uri": "https://localhost:8080/",
          "height": 419
        },
        "outputId": "0b71646c-ee69-4f79-e01b-f85c87a8d7eb"
      },
      "source": [
        "train_set,test_set=dataset[0:a],dataset[a:]\n",
        "train_set"
      ],
      "execution_count": 19,
      "outputs": [
        {
          "output_type": "execute_result",
          "data": {
            "text/html": [
              "<div>\n",
              "<style scoped>\n",
              "    .dataframe tbody tr th:only-of-type {\n",
              "        vertical-align: middle;\n",
              "    }\n",
              "\n",
              "    .dataframe tbody tr th {\n",
              "        vertical-align: top;\n",
              "    }\n",
              "\n",
              "    .dataframe thead th {\n",
              "        text-align: right;\n",
              "    }\n",
              "</style>\n",
              "<table border=\"1\" class=\"dataframe\">\n",
              "  <thead>\n",
              "    <tr style=\"text-align: right;\">\n",
              "      <th></th>\n",
              "      <th>Date</th>\n",
              "      <th>Open</th>\n",
              "      <th>High</th>\n",
              "      <th>Low</th>\n",
              "      <th>Close</th>\n",
              "      <th>Adj Close</th>\n",
              "      <th>Volume</th>\n",
              "    </tr>\n",
              "  </thead>\n",
              "  <tbody>\n",
              "    <tr>\n",
              "      <th>0</th>\n",
              "      <td>11/27/2018</td>\n",
              "      <td>625.50</td>\n",
              "      <td>641.00</td>\n",
              "      <td>625.30</td>\n",
              "      <td>638.90</td>\n",
              "      <td>615.69</td>\n",
              "      <td>12285851</td>\n",
              "    </tr>\n",
              "    <tr>\n",
              "      <th>1</th>\n",
              "      <td>11/28/2018</td>\n",
              "      <td>640.95</td>\n",
              "      <td>668.70</td>\n",
              "      <td>640.00</td>\n",
              "      <td>666.40</td>\n",
              "      <td>642.19</td>\n",
              "      <td>17719890</td>\n",
              "    </tr>\n",
              "    <tr>\n",
              "      <th>2</th>\n",
              "      <td>11/29/2018</td>\n",
              "      <td>671.00</td>\n",
              "      <td>674.90</td>\n",
              "      <td>658.80</td>\n",
              "      <td>661.05</td>\n",
              "      <td>637.03</td>\n",
              "      <td>13399070</td>\n",
              "    </tr>\n",
              "    <tr>\n",
              "      <th>3</th>\n",
              "      <td>11/30/2018</td>\n",
              "      <td>661.00</td>\n",
              "      <td>672.00</td>\n",
              "      <td>660.95</td>\n",
              "      <td>667.45</td>\n",
              "      <td>643.20</td>\n",
              "      <td>10445773</td>\n",
              "    </tr>\n",
              "    <tr>\n",
              "      <th>4</th>\n",
              "      <td>12/3/2018</td>\n",
              "      <td>673.15</td>\n",
              "      <td>679.00</td>\n",
              "      <td>665.95</td>\n",
              "      <td>670.35</td>\n",
              "      <td>645.99</td>\n",
              "      <td>8260890</td>\n",
              "    </tr>\n",
              "    <tr>\n",
              "      <th>...</th>\n",
              "      <td>...</td>\n",
              "      <td>...</td>\n",
              "      <td>...</td>\n",
              "      <td>...</td>\n",
              "      <td>...</td>\n",
              "      <td>...</td>\n",
              "      <td>...</td>\n",
              "    </tr>\n",
              "    <tr>\n",
              "      <th>188</th>\n",
              "      <td>9/6/2019</td>\n",
              "      <td>843.30</td>\n",
              "      <td>847.00</td>\n",
              "      <td>835.05</td>\n",
              "      <td>840.15</td>\n",
              "      <td>821.06</td>\n",
              "      <td>6106841</td>\n",
              "    </tr>\n",
              "    <tr>\n",
              "      <th>189</th>\n",
              "      <td>9/9/2019</td>\n",
              "      <td>836.80</td>\n",
              "      <td>840.30</td>\n",
              "      <td>827.55</td>\n",
              "      <td>829.10</td>\n",
              "      <td>810.26</td>\n",
              "      <td>4377870</td>\n",
              "    </tr>\n",
              "    <tr>\n",
              "      <th>190</th>\n",
              "      <td>9/11/2019</td>\n",
              "      <td>822.30</td>\n",
              "      <td>828.55</td>\n",
              "      <td>814.15</td>\n",
              "      <td>820.10</td>\n",
              "      <td>801.47</td>\n",
              "      <td>7981036</td>\n",
              "    </tr>\n",
              "    <tr>\n",
              "      <th>191</th>\n",
              "      <td>9/12/2019</td>\n",
              "      <td>816.40</td>\n",
              "      <td>819.85</td>\n",
              "      <td>810.85</td>\n",
              "      <td>816.40</td>\n",
              "      <td>797.85</td>\n",
              "      <td>4400017</td>\n",
              "    </tr>\n",
              "    <tr>\n",
              "      <th>192</th>\n",
              "      <td>9/13/2019</td>\n",
              "      <td>818.10</td>\n",
              "      <td>831.05</td>\n",
              "      <td>817.50</td>\n",
              "      <td>829.30</td>\n",
              "      <td>810.46</td>\n",
              "      <td>4832021</td>\n",
              "    </tr>\n",
              "  </tbody>\n",
              "</table>\n",
              "<p>193 rows × 7 columns</p>\n",
              "</div>"
            ],
            "text/plain": [
              "           Date    Open    High     Low   Close  Adj Close    Volume\n",
              "0    11/27/2018  625.50  641.00  625.30  638.90     615.69  12285851\n",
              "1    11/28/2018  640.95  668.70  640.00  666.40     642.19  17719890\n",
              "2    11/29/2018  671.00  674.90  658.80  661.05     637.03  13399070\n",
              "3    11/30/2018  661.00  672.00  660.95  667.45     643.20  10445773\n",
              "4     12/3/2018  673.15  679.00  665.95  670.35     645.99   8260890\n",
              "..          ...     ...     ...     ...     ...        ...       ...\n",
              "188    9/6/2019  843.30  847.00  835.05  840.15     821.06   6106841\n",
              "189    9/9/2019  836.80  840.30  827.55  829.10     810.26   4377870\n",
              "190   9/11/2019  822.30  828.55  814.15  820.10     801.47   7981036\n",
              "191   9/12/2019  816.40  819.85  810.85  816.40     797.85   4400017\n",
              "192   9/13/2019  818.10  831.05  817.50  829.30     810.46   4832021\n",
              "\n",
              "[193 rows x 7 columns]"
            ]
          },
          "metadata": {
            "tags": []
          },
          "execution_count": 19
        }
      ]
    },
    {
      "cell_type": "code",
      "metadata": {
        "id": "i5bC-reqKpMg",
        "colab_type": "code",
        "colab": {
          "base_uri": "https://localhost:8080/",
          "height": 537
        },
        "outputId": "f962d471-b9b1-47de-a0e0-f11a72eb91db"
      },
      "source": [
        "plt.figure(figsize=(15,5))\n",
        "plt.title(\"Infosys data \")\n",
        "plt.xlabel(\"Date\")\n",
        "plt.ylabel(\"stock open data\")\n",
        "plt.plot(train_set['Open'],color='blue',label='Training data')\n",
        "plt.plot(test_set['Open'],color='green',label='Testing data')\n",
        "plt.legend()\n",
        "plt.xticks(np.arange(0,241,25),dataset['Date'][0:241:25])\n"
      ],
      "execution_count": 20,
      "outputs": [
        {
          "output_type": "execute_result",
          "data": {
            "text/plain": [
              "([<matplotlib.axis.XTick at 0x7f9f40b01198>,\n",
              "  <matplotlib.axis.XTick at 0x7f9f42b58518>,\n",
              "  <matplotlib.axis.XTick at 0x7f9f42b4fb38>,\n",
              "  <matplotlib.axis.XTick at 0x7f9f40ab7390>,\n",
              "  <matplotlib.axis.XTick at 0x7f9f40ab7860>,\n",
              "  <matplotlib.axis.XTick at 0x7f9f40ab7d68>,\n",
              "  <matplotlib.axis.XTick at 0x7f9f40abf320>,\n",
              "  <matplotlib.axis.XTick at 0x7f9f40abf898>,\n",
              "  <matplotlib.axis.XTick at 0x7f9f40abfe10>,\n",
              "  <matplotlib.axis.XTick at 0x7f9f40ab7d30>],\n",
              " <a list of 10 Text xticklabel objects>)"
            ]
          },
          "metadata": {
            "tags": []
          },
          "execution_count": 20
        },
        {
          "output_type": "display_data",
          "data": {
            "image/png": "[encoded data removed]",
            "text/plain": [
              "<Figure size 1080x360 with 1 Axes>"
            ]
          },
          "metadata": {
            "tags": []
          }
        }
      ]
    },
    {
      "cell_type": "code",
      "metadata": {
        "id": "LailfQwxKy0N",
        "colab_type": "code",
        "colab": {}
      },
      "source": [
        "def smape(y_true,y_pred):\n",
        "    return np.mean((np.abs(y_true-y_pred)*200/(np.abs(y_true)+np.abs(y_pred))))\n"
      ],
      "execution_count": 0,
      "outputs": []
    },
    {
      "cell_type": "code",
      "metadata": {
        "id": "wcIO6D2LK7yA",
        "colab_type": "code",
        "colab": {
          "base_uri": "https://localhost:8080/",
          "height": 68
        },
        "outputId": "d02bd3a2-0d4a-4092-de2c-c274dc52ab61"
      },
      "source": [
        "train_val=train_set['Open'].values\n",
        "test_val=test_set['Open'].values\n",
        "history=[x for x in train_val]\n",
        "print(type(history))#this is list of training data\n",
        "prediction=list()\n",
        "prediction\n",
        "for t in range(len(test_val)):\n",
        "    model=ARIMA(history,order=(3,1,0))\n",
        "    model_fit=model.fit(disp=0)\n",
        "    output=model_fit.forecast()\n",
        "    yhat=output[0]\n",
        "    prediction.append(yhat)\n",
        "    obs=test_val[t]\n",
        "    history.append(obs)\n",
        "error=mean_squared_error(test_val,prediction)\n",
        "print(\"Mean squared error : %0.3f\",error)\n",
        "error2=smape(test_val,prediction)\n",
        "print(\"Symmetric mean absolute percentage error: %0.3f\",error2)\n",
        "\n"
      ],
      "execution_count": 22,
      "outputs": [
        {
          "output_type": "stream",
          "text": [
            "<class 'list'>\n",
            "Mean squared error : %0.3f 367.67769088965764\n",
            "Symmetric mean absolute percentage error: %0.3f 8.995985585381142\n"
          ],
          "name": "stdout"
        }
      ]
    },
    {
      "cell_type": "code",
      "metadata": {
        "id": "9ql8cpx_MYtb",
        "colab_type": "code",
        "colab": {
          "base_uri": "https://localhost:8080/",
          "height": 51
        },
        "outputId": "839b54ad-f1d8-4739-b550-a853b47dd0ca"
      },
      "source": [
        "print('Testing Mean Squared Error: %.3f' % error)\n",
        "print(\"Symmetric mean absolute percentage error: %0.3f\" %error2)\n",
        "\n"
      ],
      "execution_count": 23,
      "outputs": [
        {
          "output_type": "stream",
          "text": [
            "Testing Mean Squared Error: 367.678\n",
            "Symmetric mean absolute percentage error: 8.996\n"
          ],
          "name": "stdout"
        }
      ]
    },
    {
      "cell_type": "code",
      "metadata": {
        "id": "y42Ofto0Mljf",
        "colab_type": "code",
        "colab": {
          "base_uri": "https://localhost:8080/",
          "height": 1000
        },
        "outputId": "a5f13431-34ac-4f69-bf3f-6186d634268d"
      },
      "source": [
        "df1=pd.DataFrame({'Actual':test_val,'Predicted':prediction})\n",
        "df1\n"
      ],
      "execution_count": 24,
      "outputs": [
        {
          "output_type": "execute_result",
          "data": {
            "text/html": [
              "<div>\n",
              "<style scoped>\n",
              "    .dataframe tbody tr th:only-of-type {\n",
              "        vertical-align: middle;\n",
              "    }\n",
              "\n",
              "    .dataframe tbody tr th {\n",
              "        vertical-align: top;\n",
              "    }\n",
              "\n",
              "    .dataframe thead th {\n",
              "        text-align: right;\n",
              "    }\n",
              "</style>\n",
              "<table border=\"1\" class=\"dataframe\">\n",
              "  <thead>\n",
              "    <tr style=\"text-align: right;\">\n",
              "      <th></th>\n",
              "      <th>Actual</th>\n",
              "      <th>Predicted</th>\n",
              "    </tr>\n",
              "  </thead>\n",
              "  <tbody>\n",
              "    <tr>\n",
              "      <th>0</th>\n",
              "      <td>832.05</td>\n",
              "      <td>[819.3105842226577]</td>\n",
              "    </tr>\n",
              "    <tr>\n",
              "      <th>1</th>\n",
              "      <td>831.50</td>\n",
              "      <td>[833.8618069712458]</td>\n",
              "    </tr>\n",
              "    <tr>\n",
              "      <th>2</th>\n",
              "      <td>829.90</td>\n",
              "      <td>[832.5257068239032]</td>\n",
              "    </tr>\n",
              "    <tr>\n",
              "      <th>3</th>\n",
              "      <td>824.85</td>\n",
              "      <td>[830.5032998207962]</td>\n",
              "    </tr>\n",
              "    <tr>\n",
              "      <th>4</th>\n",
              "      <td>822.90</td>\n",
              "      <td>[825.6499515800966]</td>\n",
              "    </tr>\n",
              "    <tr>\n",
              "      <th>5</th>\n",
              "      <td>806.90</td>\n",
              "      <td>[823.8351064501422]</td>\n",
              "    </tr>\n",
              "    <tr>\n",
              "      <th>6</th>\n",
              "      <td>765.00</td>\n",
              "      <td>[807.1807712642617]</td>\n",
              "    </tr>\n",
              "    <tr>\n",
              "      <th>7</th>\n",
              "      <td>787.70</td>\n",
              "      <td>[761.8995589598533]</td>\n",
              "    </tr>\n",
              "    <tr>\n",
              "      <th>8</th>\n",
              "      <td>787.75</td>\n",
              "      <td>[789.7808304010986]</td>\n",
              "    </tr>\n",
              "    <tr>\n",
              "      <th>9</th>\n",
              "      <td>787.05</td>\n",
              "      <td>[789.0719507756486]</td>\n",
              "    </tr>\n",
              "    <tr>\n",
              "      <th>10</th>\n",
              "      <td>785.10</td>\n",
              "      <td>[787.5971227516336]</td>\n",
              "    </tr>\n",
              "    <tr>\n",
              "      <th>11</th>\n",
              "      <td>807.00</td>\n",
              "      <td>[785.8232851389654]</td>\n",
              "    </tr>\n",
              "    <tr>\n",
              "      <th>12</th>\n",
              "      <td>792.55</td>\n",
              "      <td>[808.478778726339]</td>\n",
              "    </tr>\n",
              "    <tr>\n",
              "      <th>13</th>\n",
              "      <td>790.00</td>\n",
              "      <td>[793.1415103543053]</td>\n",
              "    </tr>\n",
              "    <tr>\n",
              "      <th>14</th>\n",
              "      <td>794.85</td>\n",
              "      <td>[790.6327451575572]</td>\n",
              "    </tr>\n",
              "    <tr>\n",
              "      <th>15</th>\n",
              "      <td>795.45</td>\n",
              "      <td>[795.8592166397939]</td>\n",
              "    </tr>\n",
              "    <tr>\n",
              "      <th>16</th>\n",
              "      <td>785.40</td>\n",
              "      <td>[796.2400921494306]</td>\n",
              "    </tr>\n",
              "    <tr>\n",
              "      <th>17</th>\n",
              "      <td>781.50</td>\n",
              "      <td>[786.0178874942084]</td>\n",
              "    </tr>\n",
              "    <tr>\n",
              "      <th>18</th>\n",
              "      <td>786.75</td>\n",
              "      <td>[782.3207922985451]</td>\n",
              "    </tr>\n",
              "    <tr>\n",
              "      <th>19</th>\n",
              "      <td>773.10</td>\n",
              "      <td>[787.7074197125243]</td>\n",
              "    </tr>\n",
              "    <tr>\n",
              "      <th>20</th>\n",
              "      <td>765.25</td>\n",
              "      <td>[773.588056332615]</td>\n",
              "    </tr>\n",
              "    <tr>\n",
              "      <th>21</th>\n",
              "      <td>767.00</td>\n",
              "      <td>[765.9950922085585]</td>\n",
              "    </tr>\n",
              "    <tr>\n",
              "      <th>22</th>\n",
              "      <td>763.80</td>\n",
              "      <td>[767.7531054109168]</td>\n",
              "    </tr>\n",
              "    <tr>\n",
              "      <th>23</th>\n",
              "      <td>691.10</td>\n",
              "      <td>[764.3167438697034]</td>\n",
              "    </tr>\n",
              "    <tr>\n",
              "      <th>24</th>\n",
              "      <td>630.00</td>\n",
              "      <td>[689.482364193081]</td>\n",
              "    </tr>\n",
              "    <tr>\n",
              "      <th>25</th>\n",
              "      <td>650.00</td>\n",
              "      <td>[619.0507844385886]</td>\n",
              "    </tr>\n",
              "    <tr>\n",
              "      <th>26</th>\n",
              "      <td>647.00</td>\n",
              "      <td>[655.9627496243794]</td>\n",
              "    </tr>\n",
              "    <tr>\n",
              "      <th>27</th>\n",
              "      <td>651.10</td>\n",
              "      <td>[642.1127547865722]</td>\n",
              "    </tr>\n",
              "    <tr>\n",
              "      <th>28</th>\n",
              "      <td>651.00</td>\n",
              "      <td>[652.570402798659]</td>\n",
              "    </tr>\n",
              "    <tr>\n",
              "      <th>29</th>\n",
              "      <td>660.40</td>\n",
              "      <td>[650.7444394418972]</td>\n",
              "    </tr>\n",
              "    <tr>\n",
              "      <th>30</th>\n",
              "      <td>668.40</td>\n",
              "      <td>[661.8869315246243]</td>\n",
              "    </tr>\n",
              "    <tr>\n",
              "      <th>31</th>\n",
              "      <td>690.00</td>\n",
              "      <td>[669.0489872157473]</td>\n",
              "    </tr>\n",
              "    <tr>\n",
              "      <th>32</th>\n",
              "      <td>681.80</td>\n",
              "      <td>[693.0411189528983]</td>\n",
              "    </tr>\n",
              "    <tr>\n",
              "      <th>33</th>\n",
              "      <td>708.75</td>\n",
              "      <td>[679.9707302204422]</td>\n",
              "    </tr>\n",
              "    <tr>\n",
              "      <th>34</th>\n",
              "      <td>695.80</td>\n",
              "      <td>[713.2579058301088]</td>\n",
              "    </tr>\n",
              "    <tr>\n",
              "      <th>35</th>\n",
              "      <td>717.00</td>\n",
              "      <td>[693.8355889780825]</td>\n",
              "    </tr>\n",
              "    <tr>\n",
              "      <th>36</th>\n",
              "      <td>722.00</td>\n",
              "      <td>[719.6673989648826]</td>\n",
              "    </tr>\n",
              "    <tr>\n",
              "      <th>37</th>\n",
              "      <td>698.90</td>\n",
              "      <td>[722.5359030749927]</td>\n",
              "    </tr>\n",
              "    <tr>\n",
              "      <th>38</th>\n",
              "      <td>696.50</td>\n",
              "      <td>[697.4402238349226]</td>\n",
              "    </tr>\n",
              "    <tr>\n",
              "      <th>39</th>\n",
              "      <td>696.35</td>\n",
              "      <td>[697.2333107558644]</td>\n",
              "    </tr>\n",
              "    <tr>\n",
              "      <th>40</th>\n",
              "      <td>709.05</td>\n",
              "      <td>[696.1671043274566]</td>\n",
              "    </tr>\n",
              "    <tr>\n",
              "      <th>41</th>\n",
              "      <td>705.00</td>\n",
              "      <td>[710.5244148448579]</td>\n",
              "    </tr>\n",
              "    <tr>\n",
              "      <th>42</th>\n",
              "      <td>709.90</td>\n",
              "      <td>[704.6493217017538]</td>\n",
              "    </tr>\n",
              "    <tr>\n",
              "      <th>43</th>\n",
              "      <td>712.80</td>\n",
              "      <td>[710.9238378510073]</td>\n",
              "    </tr>\n",
              "    <tr>\n",
              "      <th>44</th>\n",
              "      <td>715.50</td>\n",
              "      <td>[713.2398197223717]</td>\n",
              "    </tr>\n",
              "    <tr>\n",
              "      <th>45</th>\n",
              "      <td>711.75</td>\n",
              "      <td>[716.0979297882574]</td>\n",
              "    </tr>\n",
              "    <tr>\n",
              "      <th>46</th>\n",
              "      <td>693.35</td>\n",
              "      <td>[711.7301117157147]</td>\n",
              "    </tr>\n",
              "    <tr>\n",
              "      <th>47</th>\n",
              "      <td>705.00</td>\n",
              "      <td>[692.0470975463456]</td>\n",
              "    </tr>\n",
              "    <tr>\n",
              "      <th>48</th>\n",
              "      <td>694.25</td>\n",
              "      <td>[706.6968295807303]</td>\n",
              "    </tr>\n",
              "  </tbody>\n",
              "</table>\n",
              "</div>"
            ],
            "text/plain": [
              "    Actual            Predicted\n",
              "0   832.05  [819.3105842226577]\n",
              "1   831.50  [833.8618069712458]\n",
              "2   829.90  [832.5257068239032]\n",
              "3   824.85  [830.5032998207962]\n",
              "4   822.90  [825.6499515800966]\n",
              "5   806.90  [823.8351064501422]\n",
              "6   765.00  [807.1807712642617]\n",
              "7   787.70  [761.8995589598533]\n",
              "8   787.75  [789.7808304010986]\n",
              "9   787.05  [789.0719507756486]\n",
              "10  785.10  [787.5971227516336]\n",
              "11  807.00  [785.8232851389654]\n",
              "12  792.55   [808.478778726339]\n",
              "13  790.00  [793.1415103543053]\n",
              "14  794.85  [790.6327451575572]\n",
              "15  795.45  [795.8592166397939]\n",
              "16  785.40  [796.2400921494306]\n",
              "17  781.50  [786.0178874942084]\n",
              "18  786.75  [782.3207922985451]\n",
              "19  773.10  [787.7074197125243]\n",
              "20  765.25   [773.588056332615]\n",
              "21  767.00  [765.9950922085585]\n",
              "22  763.80  [767.7531054109168]\n",
              "23  691.10  [764.3167438697034]\n",
              "24  630.00   [689.482364193081]\n",
              "25  650.00  [619.0507844385886]\n",
              "26  647.00  [655.9627496243794]\n",
              "27  651.10  [642.1127547865722]\n",
              "28  651.00   [652.570402798659]\n",
              "29  660.40  [650.7444394418972]\n",
              "30  668.40  [661.8869315246243]\n",
              "31  690.00  [669.0489872157473]\n",
              "32  681.80  [693.0411189528983]\n",
              "33  708.75  [679.9707302204422]\n",
              "34  695.80  [713.2579058301088]\n",
              "35  717.00  [693.8355889780825]\n",
              "36  722.00  [719.6673989648826]\n",
              "37  698.90  [722.5359030749927]\n",
              "38  696.50  [697.4402238349226]\n",
              "39  696.35  [697.2333107558644]\n",
              "40  709.05  [696.1671043274566]\n",
              "41  705.00  [710.5244148448579]\n",
              "42  709.90  [704.6493217017538]\n",
              "43  712.80  [710.9238378510073]\n",
              "44  715.50  [713.2398197223717]\n",
              "45  711.75  [716.0979297882574]\n",
              "46  693.35  [711.7301117157147]\n",
              "47  705.00  [692.0470975463456]\n",
              "48  694.25  [706.6968295807303]"
            ]
          },
          "metadata": {
            "tags": []
          },
          "execution_count": 24
        }
      ]
    },
    {
      "cell_type": "code",
      "metadata": {
        "id": "1mV42EuHM0hR",
        "colab_type": "code",
        "colab": {
          "base_uri": "https://localhost:8080/",
          "height": 367
        },
        "outputId": "2c4b094f-44b8-4351-c703-b642189bd67b"
      },
      "source": [
        "plt.figure(figsize=(10,5))\n",
        "plt.title(\"Observed vs Prediction\")\n",
        "plt.xlabel('Date')\n",
        "plt.ylabel('Open Price')\n",
        "plt.plot(dataset['Open'],color='blue',label='Training data')\n",
        "plt.plot(test_set.index,test_set['Open'],'green',marker='o',label='Testing Value')#since training and testing was overlapping therfore marker was used\n",
        "plt.plot(test_set.index,prediction,'red',label='predicted value')\n",
        "plt.xticks(np.arange(0,241,25), dataset['Date'][0:241:25])\n",
        "plt.legend()\n"
      ],
      "execution_count": 25,
      "outputs": [
        {
          "output_type": "execute_result",
          "data": {
            "text/plain": [
              "<matplotlib.legend.Legend at 0x7f9f40a46390>"
            ]
          },
          "metadata": {
            "tags": []
          },
          "execution_count": 25
        },
        {
          "output_type": "display_data",
          "data": {
            "image/png": "[encoded data removed]",
            "text/plain": [
              "<Figure size 720x360 with 1 Axes>"
            ]
          },
          "metadata": {
            "tags": []
          }
        }
      ]
    },
    {
      "cell_type": "code",
      "metadata": {
        "id": "09FMCQQQNNEr",
        "colab_type": "code",
        "colab": {
          "base_uri": "https://localhost:8080/",
          "height": 34
        },
        "outputId": "cc83fdde-5a30-4837-a8fb-5e43d1183559"
      },
      "source": [
        "n=int(len(df1))\n",
        "242-193"
      ],
      "execution_count": 26,
      "outputs": [
        {
          "output_type": "execute_result",
          "data": {
            "text/plain": [
              "49"
            ]
          },
          "metadata": {
            "tags": []
          },
          "execution_count": 26
        }
      ]
    },
    {
      "cell_type": "code",
      "metadata": {
        "id": "EUUl0lylNlGB",
        "colab_type": "code",
        "colab": {
          "base_uri": "https://localhost:8080/",
          "height": 367
        },
        "outputId": "96fefd6a-7fe9-481d-ef99-e8be4788c0a1"
      },
      "source": [
        "plt.figure(figsize=(7,5))\n",
        "plt.title(\"Plot of observed vs predicted\")\n",
        "plt.xlabel(\"Date\")\n",
        "plt.ylabel('Open Price')\n",
        "plt.plot(test_set.index,test_val,\"green\",label=\"observed\",marker='o')\n",
        "plt.plot(test_set.index,prediction,\"red\",label=\"predicted\")\n",
        "plt.xticks(np.arange(193,242,10),dataset['Date'][193:242:10])\n",
        "plt.legend()\n"
      ],
      "execution_count": 27,
      "outputs": [
        {
          "output_type": "execute_result",
          "data": {
            "text/plain": [
              "<matplotlib.legend.Legend at 0x7f9f409b5dd8>"
            ]
          },
          "metadata": {
            "tags": []
          },
          "execution_count": 27
        },
        {
          "output_type": "display_data",
          "data": {
            "image/png": "[encoded data removed]",
            "text/plain": [
              "<Figure size 504x360 with 1 Axes>"
            ]
          },
          "metadata": {
            "tags": []
          }
        }
      ]
    },
    {
      "cell_type": "code",
      "metadata": {
        "id": "bPQ_aVoANqsY",
        "colab_type": "code",
        "colab": {
          "base_uri": "https://localhost:8080/",
          "height": 376
        },
        "outputId": "7e65417e-1854-4790-ae18-d6ddf85f1772"
      },
      "source": [
        "model_fit.summary()"
      ],
      "execution_count": 28,
      "outputs": [
        {
          "output_type": "execute_result",
          "data": {
            "text/html": [
              "<table class=\"simpletable\">\n",
              "<caption>ARIMA Model Results</caption>\n",
              "<tr>\n",
              "  <th>Dep. Variable:</th>        <td>D.y</td>       <th>  No. Observations:  </th>    <td>240</td>  \n",
              "</tr>\n",
              "<tr>\n",
              "  <th>Model:</th>          <td>ARIMA(3, 1, 0)</td>  <th>  Log Likelihood     </th> <td>-936.114</td>\n",
              "</tr>\n",
              "<tr>\n",
              "  <th>Method:</th>             <td>css-mle</td>     <th>  S.D. of innovations</th>  <td>11.959</td> \n",
              "</tr>\n",
              "<tr>\n",
              "  <th>Date:</th>          <td>Mon, 09 Mar 2020</td> <th>  AIC                </th> <td>1882.227</td>\n",
              "</tr>\n",
              "<tr>\n",
              "  <th>Time:</th>              <td>16:54:02</td>     <th>  BIC                </th> <td>1899.630</td>\n",
              "</tr>\n",
              "<tr>\n",
              "  <th>Sample:</th>                <td>1</td>        <th>  HQIC               </th> <td>1889.239</td>\n",
              "</tr>\n",
              "<tr>\n",
              "  <th></th>                       <td> </td>        <th>                     </th>     <td> </td>   \n",
              "</tr>\n",
              "</table>\n",
              "<table class=\"simpletable\">\n",
              "<tr>\n",
              "      <td></td>         <th>coef</th>     <th>std err</th>      <th>z</th>      <th>P>|z|</th>  <th>[0.025</th>    <th>0.975]</th>  \n",
              "</tr>\n",
              "<tr>\n",
              "  <th>const</th>     <td>    0.3385</td> <td>    0.832</td> <td>    0.407</td> <td> 0.685</td> <td>   -1.293</td> <td>    1.970</td>\n",
              "</tr>\n",
              "<tr>\n",
              "  <th>ar.L1.D.y</th> <td>    0.0844</td> <td>    0.065</td> <td>    1.303</td> <td> 0.194</td> <td>   -0.042</td> <td>    0.211</td>\n",
              "</tr>\n",
              "<tr>\n",
              "  <th>ar.L2.D.y</th> <td>   -0.0243</td> <td>    0.066</td> <td>   -0.368</td> <td> 0.713</td> <td>   -0.154</td> <td>    0.105</td>\n",
              "</tr>\n",
              "<tr>\n",
              "  <th>ar.L3.D.y</th> <td>    0.0125</td> <td>    0.066</td> <td>    0.190</td> <td> 0.850</td> <td>   -0.116</td> <td>    0.141</td>\n",
              "</tr>\n",
              "</table>\n",
              "<table class=\"simpletable\">\n",
              "<caption>Roots</caption>\n",
              "<tr>\n",
              "    <td></td>   <th>            Real</th>  <th>         Imaginary</th> <th>         Modulus</th>  <th>        Frequency</th>\n",
              "</tr>\n",
              "<tr>\n",
              "  <th>AR.1</th> <td>          -1.2566</td> <td>          -4.0486j</td> <td>           4.2391</td> <td>          -0.2979</td>\n",
              "</tr>\n",
              "<tr>\n",
              "  <th>AR.2</th> <td>          -1.2566</td> <td>          +4.0486j</td> <td>           4.2391</td> <td>           0.2979</td>\n",
              "</tr>\n",
              "<tr>\n",
              "  <th>AR.3</th> <td>           4.4602</td> <td>          -0.0000j</td> <td>           4.4602</td> <td>          -0.0000</td>\n",
              "</tr>\n",
              "</table>"
            ],
            "text/plain": [
              "<class 'statsmodels.iolib.summary.Summary'>\n",
              "\"\"\"\n",
              "                             ARIMA Model Results                              \n",
              "==============================================================================\n",
              "Dep. Variable:                    D.y   No. Observations:                  240\n",
              "Model:                 ARIMA(3, 1, 0)   Log Likelihood                -936.114\n",
              "Method:                       css-mle   S.D. of innovations             11.959\n",
              "Date:                Mon, 09 Mar 2020   AIC                           1882.227\n",
              "Time:                        16:54:02   BIC                           1899.630\n",
              "Sample:                             1   HQIC                          1889.239\n",
              "                                                                              \n",
              "==============================================================================\n",
              "                 coef    std err          z      P>|z|      [0.025      0.975]\n",
              "------------------------------------------------------------------------------\n",
              "const          0.3385      0.832      0.407      0.685      -1.293       1.970\n",
              "ar.L1.D.y      0.0844      0.065      1.303      0.194      -0.042       0.211\n",
              "ar.L2.D.y     -0.0243      0.066     -0.368      0.713      -0.154       0.105\n",
              "ar.L3.D.y      0.0125      0.066      0.190      0.850      -0.116       0.141\n",
              "                                    Roots                                    \n",
              "=============================================================================\n",
              "                  Real          Imaginary           Modulus         Frequency\n",
              "-----------------------------------------------------------------------------\n",
              "AR.1           -1.2566           -4.0486j            4.2391           -0.2979\n",
              "AR.2           -1.2566           +4.0486j            4.2391            0.2979\n",
              "AR.3            4.4602           -0.0000j            4.4602           -0.0000\n",
              "-----------------------------------------------------------------------------\n",
              "\"\"\""
            ]
          },
          "metadata": {
            "tags": []
          },
          "execution_count": 28
        }
      ]
    },
    {
      "cell_type": "code",
      "metadata": {
        "id": "W9JhaD8_N9T6",
        "colab_type": "code",
        "colab": {}
      },
      "source": [
        "import pandas as pd\n",
        "import numpy as np\n",
        "import matplotlib.pyplot as plt\n",
        "from sklearn.linear_model import LinearRegression\n",
        "from sklearn.model_selection import train_test_split\n",
        "from sklearn import metrics\n"
      ],
      "execution_count": 0,
      "outputs": []
    },
    {
      "cell_type": "code",
      "metadata": {
        "id": "TgoBbY49OLBw",
        "colab_type": "code",
        "colab": {
          "base_uri": "https://localhost:8080/",
          "height": 419
        },
        "outputId": "272a891e-d474-4c5f-f337-5efe1f81596c"
      },
      "source": [
        "date_val=dataset.index\n",
        "#df.index=df['Date']\n",
        "dataset.sort_index(ascending=True,axis=0)\n",
        "data=pd.DataFrame({\"Date\":date_val,'Open':dataset['Open']})\n",
        "\n",
        "dataset"
      ],
      "execution_count": 30,
      "outputs": [
        {
          "output_type": "execute_result",
          "data": {
            "text/html": [
              "<div>\n",
              "<style scoped>\n",
              "    .dataframe tbody tr th:only-of-type {\n",
              "        vertical-align: middle;\n",
              "    }\n",
              "\n",
              "    .dataframe tbody tr th {\n",
              "        vertical-align: top;\n",
              "    }\n",
              "\n",
              "    .dataframe thead th {\n",
              "        text-align: right;\n",
              "    }\n",
              "</style>\n",
              "<table border=\"1\" class=\"dataframe\">\n",
              "  <thead>\n",
              "    <tr style=\"text-align: right;\">\n",
              "      <th></th>\n",
              "      <th>Date</th>\n",
              "      <th>Open</th>\n",
              "      <th>High</th>\n",
              "      <th>Low</th>\n",
              "      <th>Close</th>\n",
              "      <th>Adj Close</th>\n",
              "      <th>Volume</th>\n",
              "    </tr>\n",
              "  </thead>\n",
              "  <tbody>\n",
              "    <tr>\n",
              "      <th>0</th>\n",
              "      <td>11/27/2018</td>\n",
              "      <td>625.50</td>\n",
              "      <td>641.00</td>\n",
              "      <td>625.30</td>\n",
              "      <td>638.90</td>\n",
              "      <td>615.69</td>\n",
              "      <td>12285851</td>\n",
              "    </tr>\n",
              "    <tr>\n",
              "      <th>1</th>\n",
              "      <td>11/28/2018</td>\n",
              "      <td>640.95</td>\n",
              "      <td>668.70</td>\n",
              "      <td>640.00</td>\n",
              "      <td>666.40</td>\n",
              "      <td>642.19</td>\n",
              "      <td>17719890</td>\n",
              "    </tr>\n",
              "    <tr>\n",
              "      <th>2</th>\n",
              "      <td>11/29/2018</td>\n",
              "      <td>671.00</td>\n",
              "      <td>674.90</td>\n",
              "      <td>658.80</td>\n",
              "      <td>661.05</td>\n",
              "      <td>637.03</td>\n",
              "      <td>13399070</td>\n",
              "    </tr>\n",
              "    <tr>\n",
              "      <th>3</th>\n",
              "      <td>11/30/2018</td>\n",
              "      <td>661.00</td>\n",
              "      <td>672.00</td>\n",
              "      <td>660.95</td>\n",
              "      <td>667.45</td>\n",
              "      <td>643.20</td>\n",
              "      <td>10445773</td>\n",
              "    </tr>\n",
              "    <tr>\n",
              "      <th>4</th>\n",
              "      <td>12/3/2018</td>\n",
              "      <td>673.15</td>\n",
              "      <td>679.00</td>\n",
              "      <td>665.95</td>\n",
              "      <td>670.35</td>\n",
              "      <td>645.99</td>\n",
              "      <td>8260890</td>\n",
              "    </tr>\n",
              "    <tr>\n",
              "      <th>...</th>\n",
              "      <td>...</td>\n",
              "      <td>...</td>\n",
              "      <td>...</td>\n",
              "      <td>...</td>\n",
              "      <td>...</td>\n",
              "      <td>...</td>\n",
              "      <td>...</td>\n",
              "    </tr>\n",
              "    <tr>\n",
              "      <th>237</th>\n",
              "      <td>11/21/2019</td>\n",
              "      <td>715.50</td>\n",
              "      <td>721.45</td>\n",
              "      <td>710.50</td>\n",
              "      <td>713.25</td>\n",
              "      <td>713.25</td>\n",
              "      <td>9692973</td>\n",
              "    </tr>\n",
              "    <tr>\n",
              "      <th>238</th>\n",
              "      <td>11/22/2019</td>\n",
              "      <td>711.75</td>\n",
              "      <td>712.00</td>\n",
              "      <td>685.10</td>\n",
              "      <td>693.20</td>\n",
              "      <td>693.20</td>\n",
              "      <td>14415826</td>\n",
              "    </tr>\n",
              "    <tr>\n",
              "      <th>239</th>\n",
              "      <td>11/25/2019</td>\n",
              "      <td>693.35</td>\n",
              "      <td>705.15</td>\n",
              "      <td>693.20</td>\n",
              "      <td>698.10</td>\n",
              "      <td>698.10</td>\n",
              "      <td>7334511</td>\n",
              "    </tr>\n",
              "    <tr>\n",
              "      <th>240</th>\n",
              "      <td>11/26/2019</td>\n",
              "      <td>705.00</td>\n",
              "      <td>707.25</td>\n",
              "      <td>686.00</td>\n",
              "      <td>690.60</td>\n",
              "      <td>690.60</td>\n",
              "      <td>27252999</td>\n",
              "    </tr>\n",
              "    <tr>\n",
              "      <th>241</th>\n",
              "      <td>11/27/2019</td>\n",
              "      <td>694.25</td>\n",
              "      <td>697.65</td>\n",
              "      <td>690.10</td>\n",
              "      <td>695.75</td>\n",
              "      <td>695.75</td>\n",
              "      <td>3859538</td>\n",
              "    </tr>\n",
              "  </tbody>\n",
              "</table>\n",
              "<p>242 rows × 7 columns</p>\n",
              "</div>"
            ],
            "text/plain": [
              "           Date    Open    High     Low   Close  Adj Close    Volume\n",
              "0    11/27/2018  625.50  641.00  625.30  638.90     615.69  12285851\n",
              "1    11/28/2018  640.95  668.70  640.00  666.40     642.19  17719890\n",
              "2    11/29/2018  671.00  674.90  658.80  661.05     637.03  13399070\n",
              "3    11/30/2018  661.00  672.00  660.95  667.45     643.20  10445773\n",
              "4     12/3/2018  673.15  679.00  665.95  670.35     645.99   8260890\n",
              "..          ...     ...     ...     ...     ...        ...       ...\n",
              "237  11/21/2019  715.50  721.45  710.50  713.25     713.25   9692973\n",
              "238  11/22/2019  711.75  712.00  685.10  693.20     693.20  14415826\n",
              "239  11/25/2019  693.35  705.15  693.20  698.10     698.10   7334511\n",
              "240  11/26/2019  705.00  707.25  686.00  690.60     690.60  27252999\n",
              "241  11/27/2019  694.25  697.65  690.10  695.75     695.75   3859538\n",
              "\n",
              "[242 rows x 7 columns]"
            ]
          },
          "metadata": {
            "tags": []
          },
          "execution_count": 30
        }
      ]
    },
    {
      "cell_type": "code",
      "metadata": {
        "id": "22ItkT4uOpNo",
        "colab_type": "code",
        "colab": {
          "base_uri": "https://localhost:8080/",
          "height": 1000
        },
        "outputId": "98650887-ae86-4f13-e91b-8f2f0bf74939"
      },
      "source": [
        "df2 = dataset.reset_index()\n",
        "prices = df2['Open'].tolist()\n",
        "dates = df2.index.tolist()\n",
        " \n",
        "prices1=df2['Open'].values.reshape(-1,1) \n",
        "dates1=df2.index.values.reshape(-1,1)\n",
        "prices1"
      ],
      "execution_count": 31,
      "outputs": [
        {
          "output_type": "execute_result",
          "data": {
            "text/plain": [
              "array([[625.5 ],\n",
              "       [640.95],\n",
              "       [671.  ],\n",
              "       [661.  ],\n",
              "       [673.15],\n",
              "       [672.55],\n",
              "       [683.  ],\n",
              "       [676.1 ],\n",
              "       [672.  ],\n",
              "       [669.9 ],\n",
              "       [669.2 ],\n",
              "       [677.1 ],\n",
              "       [682.  ],\n",
              "       [697.45],\n",
              "       [711.85],\n",
              "       [686.5 ],\n",
              "       [671.55],\n",
              "       [660.  ],\n",
              "       [659.5 ],\n",
              "       [657.  ],\n",
              "       [647.  ],\n",
              "       [652.75],\n",
              "       [663.35],\n",
              "       [660.  ],\n",
              "       [660.95],\n",
              "       [666.  ],\n",
              "       [672.  ],\n",
              "       [671.75],\n",
              "       [665.  ],\n",
              "       [674.95],\n",
              "       [686.2 ],\n",
              "       [681.6 ],\n",
              "       [680.2 ],\n",
              "       [707.  ],\n",
              "       [707.2 ],\n",
              "       [729.9 ],\n",
              "       [735.8 ],\n",
              "       [730.  ],\n",
              "       [738.2 ],\n",
              "       [741.25],\n",
              "       [742.35],\n",
              "       [728.1 ],\n",
              "       [728.  ],\n",
              "       [731.  ],\n",
              "       [725.5 ],\n",
              "       [727.9 ],\n",
              "       [726.  ],\n",
              "       [751.35],\n",
              "       [757.  ],\n",
              "       [747.  ],\n",
              "       [755.55],\n",
              "       [763.05],\n",
              "       [760.  ],\n",
              "       [766.9 ],\n",
              "       [760.35],\n",
              "       [751.  ],\n",
              "       [742.3 ],\n",
              "       [742.35],\n",
              "       [739.1 ],\n",
              "       [727.  ],\n",
              "       [738.  ],\n",
              "       [732.5 ],\n",
              "       [735.55],\n",
              "       [748.6 ],\n",
              "       [745.  ],\n",
              "       [738.7 ],\n",
              "       [735.5 ],\n",
              "       [740.5 ],\n",
              "       [736.1 ],\n",
              "       [734.  ],\n",
              "       [722.95],\n",
              "       [713.3 ],\n",
              "       [709.  ],\n",
              "       [710.  ],\n",
              "       [714.  ],\n",
              "       [712.  ],\n",
              "       [721.55],\n",
              "       [712.8 ],\n",
              "       [727.25],\n",
              "       [745.  ],\n",
              "       [742.4 ],\n",
              "       [730.  ],\n",
              "       [742.  ],\n",
              "       [759.  ],\n",
              "       [756.  ],\n",
              "       [751.4 ],\n",
              "       [750.9 ],\n",
              "       [763.05],\n",
              "       [770.  ],\n",
              "       [764.  ],\n",
              "       [751.75],\n",
              "       [743.1 ],\n",
              "       [724.7 ],\n",
              "       [727.9 ],\n",
              "       [722.5 ],\n",
              "       [717.05],\n",
              "       [723.9 ],\n",
              "       [728.2 ],\n",
              "       [736.45],\n",
              "       [731.  ],\n",
              "       [738.  ],\n",
              "       [747.  ],\n",
              "       [722.9 ],\n",
              "       [715.  ],\n",
              "       [720.4 ],\n",
              "       [721.  ],\n",
              "       [719.15],\n",
              "       [720.8 ],\n",
              "       [716.55],\n",
              "       [716.5 ],\n",
              "       [714.9 ],\n",
              "       [720.  ],\n",
              "       [733.15],\n",
              "       [719.7 ],\n",
              "       [722.65],\n",
              "       [710.  ],\n",
              "       [715.  ],\n",
              "       [703.8 ],\n",
              "       [707.4 ],\n",
              "       [712.  ],\n",
              "       [725.5 ],\n",
              "       [727.  ],\n",
              "       [736.5 ],\n",
              "       [729.8 ],\n",
              "       [737.25],\n",
              "       [736.5 ],\n",
              "       [735.85],\n",
              "       [740.1 ],\n",
              "       [755.  ],\n",
              "       [756.95],\n",
              "       [740.  ],\n",
              "       [743.85],\n",
              "       [743.  ],\n",
              "       [740.2 ],\n",
              "       [752.5 ],\n",
              "       [737.8 ],\n",
              "       [755.  ],\n",
              "       [751.9 ],\n",
              "       [744.  ],\n",
              "       [743.  ],\n",
              "       [742.  ],\n",
              "       [735.5 ],\n",
              "       [735.  ],\n",
              "       [734.  ],\n",
              "       [741.  ],\n",
              "       [729.  ],\n",
              "       [735.  ],\n",
              "       [716.45],\n",
              "       [718.  ],\n",
              "       [709.  ],\n",
              "       [719.45],\n",
              "       [722.5 ],\n",
              "       [763.  ],\n",
              "       [777.  ],\n",
              "       [783.9 ],\n",
              "       [789.05],\n",
              "       [788.7 ],\n",
              "       [785.95],\n",
              "       [787.  ],\n",
              "       [788.  ],\n",
              "       [788.25],\n",
              "       [792.3 ],\n",
              "       [789.5 ],\n",
              "       [791.9 ],\n",
              "       [790.85],\n",
              "       [786.45],\n",
              "       [765.05],\n",
              "       [772.6 ],\n",
              "       [778.8 ],\n",
              "       [778.9 ],\n",
              "       [782.7 ],\n",
              "       [792.  ],\n",
              "       [784.15],\n",
              "       [775.1 ],\n",
              "       [780.  ],\n",
              "       [775.6 ],\n",
              "       [785.2 ],\n",
              "       [793.  ],\n",
              "       [799.9 ],\n",
              "       [796.45],\n",
              "       [795.9 ],\n",
              "       [791.  ],\n",
              "       [787.4 ],\n",
              "       [795.5 ],\n",
              "       [810.  ],\n",
              "       [815.  ],\n",
              "       [810.75],\n",
              "       [830.1 ],\n",
              "       [843.3 ],\n",
              "       [836.8 ],\n",
              "       [822.3 ],\n",
              "       [816.4 ],\n",
              "       [818.1 ],\n",
              "       [832.05],\n",
              "       [831.5 ],\n",
              "       [829.9 ],\n",
              "       [824.85],\n",
              "       [822.9 ],\n",
              "       [806.9 ],\n",
              "       [765.  ],\n",
              "       [787.7 ],\n",
              "       [787.75],\n",
              "       [787.05],\n",
              "       [785.1 ],\n",
              "       [807.  ],\n",
              "       [792.55],\n",
              "       [790.  ],\n",
              "       [794.85],\n",
              "       [795.45],\n",
              "       [785.4 ],\n",
              "       [781.5 ],\n",
              "       [786.75],\n",
              "       [773.1 ],\n",
              "       [765.25],\n",
              "       [767.  ],\n",
              "       [763.8 ],\n",
              "       [691.1 ],\n",
              "       [630.  ],\n",
              "       [650.  ],\n",
              "       [647.  ],\n",
              "       [651.1 ],\n",
              "       [651.  ],\n",
              "       [660.4 ],\n",
              "       [668.4 ],\n",
              "       [690.  ],\n",
              "       [681.8 ],\n",
              "       [708.75],\n",
              "       [695.8 ],\n",
              "       [717.  ],\n",
              "       [722.  ],\n",
              "       [698.9 ],\n",
              "       [696.5 ],\n",
              "       [696.35],\n",
              "       [709.05],\n",
              "       [705.  ],\n",
              "       [709.9 ],\n",
              "       [712.8 ],\n",
              "       [715.5 ],\n",
              "       [711.75],\n",
              "       [693.35],\n",
              "       [705.  ],\n",
              "       [694.25]])"
            ]
          },
          "metadata": {
            "tags": []
          },
          "execution_count": 31
        }
      ]
    },
    {
      "cell_type": "code",
      "metadata": {
        "id": "yB8btTvxO2cc",
        "colab_type": "code",
        "colab": {
          "base_uri": "https://localhost:8080/",
          "height": 34
        },
        "outputId": "a05c9939-260c-4e88-87ae-37249f5bcf0d"
      },
      "source": [
        "regressor = LinearRegression()\n",
        "regressor.fit(dates1, prices1)"
      ],
      "execution_count": 32,
      "outputs": [
        {
          "output_type": "execute_result",
          "data": {
            "text/plain": [
              "LinearRegression(copy_X=True, fit_intercept=True, n_jobs=None, normalize=False)"
            ]
          },
          "metadata": {
            "tags": []
          },
          "execution_count": 32
        }
      ]
    },
    {
      "cell_type": "code",
      "metadata": {
        "id": "qCbSBeUjPMNr",
        "colab_type": "code",
        "colab": {
          "base_uri": "https://localhost:8080/",
          "height": 295
        },
        "outputId": "a3178ca2-6800-47c9-c303-57c21cc1e6fd"
      },
      "source": [
        "plt.scatter(dates1, prices1, color='yellow', label= 'Actual Price') #plotting the initial datapoints\n",
        "plt.plot(dates1, regressor.predict(dates1), color='red', linewidth=3, label = 'Predicted Price') #plotting the line made by linear regression\n",
        "plt.title('Linear Regression | Time vs. Price')\n",
        "plt.legend()\n",
        "plt.xlabel('Date Integer')\n",
        "plt.show()\n",
        " "
      ],
      "execution_count": 33,
      "outputs": [
        {
          "output_type": "display_data",
          "data": {
            "image/png": "[encoded data removed]",
            "text/plain": [
              "<Figure size 432x288 with 1 Axes>"
            ]
          },
          "metadata": {
            "tags": []
          }
        }
      ]
    },
    {
      "cell_type": "code",
      "metadata": {
        "id": "UEh4a4j6Pmxr",
        "colab_type": "code",
        "colab": {
          "base_uri": "https://localhost:8080/",
          "height": 34
        },
        "outputId": "07e0fc90-44f4-430b-cfd7-17f486064b29"
      },
      "source": [
        "date = 10\n",
        "#predicted_price =regressor.predict(date)\n",
        "#print(predicted_price[0][0],regressor.coef_[0][0] ,regressor.intercept_[0])\n",
        "#xtrain, xtest, ytrain, ytest = train_test_split(dates, prices, test_size=0.2, random_state=42)\n",
        "xtrain=dates1[0:a]\n",
        "ytrain=prices1[0:a]\n",
        "xtest=dates1[a:]\n",
        "ytest=prices1[a:]\n",
        "regressor.fit(xtrain, ytrain)\n",
        " \n"
      ],
      "execution_count": 34,
      "outputs": [
        {
          "output_type": "execute_result",
          "data": {
            "text/plain": [
              "LinearRegression(copy_X=True, fit_intercept=True, n_jobs=None, normalize=False)"
            ]
          },
          "metadata": {
            "tags": []
          },
          "execution_count": 34
        }
      ]
    },
    {
      "cell_type": "code",
      "metadata": {
        "id": "E_SSVFK1Pz5X",
        "colab_type": "code",
        "colab": {
          "base_uri": "https://localhost:8080/",
          "height": 295
        },
        "outputId": "2d211952-ec22-4a9e-bc6e-c57908ebab99"
      },
      "source": [
        "plt.scatter(xtest, ytest, color='yellow', label= 'Actual Price') #plotting the initial datapoints\n",
        "plt.plot(xtest, regressor.predict(xtest), color='blue', linewidth=3, label = 'Predicted Price') #plotting the line made by linear regression\n",
        "plt.title('Linear Regression | Time vs. Price')\n",
        "plt.legend()\n",
        "plt.xlabel('Date Integer')\n",
        "plt.show()\n",
        "\n"
      ],
      "execution_count": 35,
      "outputs": [
        {
          "output_type": "display_data",
          "data": {
            "image/png": "[encoded data removed]",
            "text/plain": [
              "<Figure size 432x288 with 1 Axes>"
            ]
          },
          "metadata": {
            "tags": []
          }
        }
      ]
    },
    {
      "cell_type": "code",
      "metadata": {
        "id": "-XmG1ILFP-re",
        "colab_type": "code",
        "colab": {
          "base_uri": "https://localhost:8080/",
          "height": 34
        },
        "outputId": "10166fb1-7c92-4fee-bd19-1ab039b0748f"
      },
      "source": [
        "erro=metrics.mean_squared_error(ytest,regressor.predict(xtest))\n",
        "erro\n",
        "\n"
      ],
      "execution_count": 36,
      "outputs": [
        {
          "output_type": "execute_result",
          "data": {
            "text/plain": [
              "8857.642449335279"
            ]
          },
          "metadata": {
            "tags": []
          },
          "execution_count": 36
        }
      ]
    },
    {
      "cell_type": "code",
      "metadata": {
        "id": "MK-B6laxQVcQ",
        "colab_type": "code",
        "colab": {
          "base_uri": "https://localhost:8080/",
          "height": 387
        },
        "outputId": "cfbc9533-05ff-4f41-97df-6455ccfcdaf9"
      },
      "source": [
        "plt.figure(figsize=(20,5))\n",
        "plt.title(\"Linear Regression Model\")\n",
        "plt.xlabel(\"Date\")\n",
        "plt.ylabel(\"Open Price\")\n",
        "plt.plot(ytrain,\"blue\",label=\"Training data\")\n",
        "plt.plot(test_set.index,ytest,\"green\",label=\"testing data\")\n",
        "#plt.plot(test_set.index,y_pred,\"red\")\n",
        "plt.plot(test_set.index,regressor.predict(xtest),\"brown\",label=\"predicted value\")\n",
        "#plt.xticks(dataset['Date'][0:242:20])\n",
        "plt.legend()\n",
        "\n"
      ],
      "execution_count": 37,
      "outputs": [
        {
          "output_type": "execute_result",
          "data": {
            "text/plain": [
              "<matplotlib.legend.Legend at 0x7f9f3eea2780>"
            ]
          },
          "metadata": {
            "tags": []
          },
          "execution_count": 37
        },
        {
          "output_type": "display_data",
          "data": {
            "image/png": "[encoded data removed]",
            "text/plain": [
              "<Figure size 1440x360 with 1 Axes>"
            ]
          },
          "metadata": {
            "tags": []
          }
        }
      ]
    },
    {
      "cell_type": "code",
      "metadata": {
        "id": "emC-REiAQj6i",
        "colab_type": "code",
        "colab": {
          "base_uri": "https://localhost:8080/",
          "height": 1000
        },
        "outputId": "726913fc-aadc-4ecd-e411-4dd2b599a4a8"
      },
      "source": [
        "a=int(len(dataset)*0.8)\n",
        "train=data[0:a]\n",
        "test=data[a:]\n",
        "test\n"
      ],
      "execution_count": 38,
      "outputs": [
        {
          "output_type": "execute_result",
          "data": {
            "text/html": [
              "<div>\n",
              "<style scoped>\n",
              "    .dataframe tbody tr th:only-of-type {\n",
              "        vertical-align: middle;\n",
              "    }\n",
              "\n",
              "    .dataframe tbody tr th {\n",
              "        vertical-align: top;\n",
              "    }\n",
              "\n",
              "    .dataframe thead th {\n",
              "        text-align: right;\n",
              "    }\n",
              "</style>\n",
              "<table border=\"1\" class=\"dataframe\">\n",
              "  <thead>\n",
              "    <tr style=\"text-align: right;\">\n",
              "      <th></th>\n",
              "      <th>Date</th>\n",
              "      <th>Open</th>\n",
              "    </tr>\n",
              "  </thead>\n",
              "  <tbody>\n",
              "    <tr>\n",
              "      <th>193</th>\n",
              "      <td>193</td>\n",
              "      <td>832.05</td>\n",
              "    </tr>\n",
              "    <tr>\n",
              "      <th>194</th>\n",
              "      <td>194</td>\n",
              "      <td>831.50</td>\n",
              "    </tr>\n",
              "    <tr>\n",
              "      <th>195</th>\n",
              "      <td>195</td>\n",
              "      <td>829.90</td>\n",
              "    </tr>\n",
              "    <tr>\n",
              "      <th>196</th>\n",
              "      <td>196</td>\n",
              "      <td>824.85</td>\n",
              "    </tr>\n",
              "    <tr>\n",
              "      <th>197</th>\n",
              "      <td>197</td>\n",
              "      <td>822.90</td>\n",
              "    </tr>\n",
              "    <tr>\n",
              "      <th>198</th>\n",
              "      <td>198</td>\n",
              "      <td>806.90</td>\n",
              "    </tr>\n",
              "    <tr>\n",
              "      <th>199</th>\n",
              "      <td>199</td>\n",
              "      <td>765.00</td>\n",
              "    </tr>\n",
              "    <tr>\n",
              "      <th>200</th>\n",
              "      <td>200</td>\n",
              "      <td>787.70</td>\n",
              "    </tr>\n",
              "    <tr>\n",
              "      <th>201</th>\n",
              "      <td>201</td>\n",
              "      <td>787.75</td>\n",
              "    </tr>\n",
              "    <tr>\n",
              "      <th>202</th>\n",
              "      <td>202</td>\n",
              "      <td>787.05</td>\n",
              "    </tr>\n",
              "    <tr>\n",
              "      <th>203</th>\n",
              "      <td>203</td>\n",
              "      <td>785.10</td>\n",
              "    </tr>\n",
              "    <tr>\n",
              "      <th>204</th>\n",
              "      <td>204</td>\n",
              "      <td>807.00</td>\n",
              "    </tr>\n",
              "    <tr>\n",
              "      <th>205</th>\n",
              "      <td>205</td>\n",
              "      <td>792.55</td>\n",
              "    </tr>\n",
              "    <tr>\n",
              "      <th>206</th>\n",
              "      <td>206</td>\n",
              "      <td>790.00</td>\n",
              "    </tr>\n",
              "    <tr>\n",
              "      <th>207</th>\n",
              "      <td>207</td>\n",
              "      <td>794.85</td>\n",
              "    </tr>\n",
              "    <tr>\n",
              "      <th>208</th>\n",
              "      <td>208</td>\n",
              "      <td>795.45</td>\n",
              "    </tr>\n",
              "    <tr>\n",
              "      <th>209</th>\n",
              "      <td>209</td>\n",
              "      <td>785.40</td>\n",
              "    </tr>\n",
              "    <tr>\n",
              "      <th>210</th>\n",
              "      <td>210</td>\n",
              "      <td>781.50</td>\n",
              "    </tr>\n",
              "    <tr>\n",
              "      <th>211</th>\n",
              "      <td>211</td>\n",
              "      <td>786.75</td>\n",
              "    </tr>\n",
              "    <tr>\n",
              "      <th>212</th>\n",
              "      <td>212</td>\n",
              "      <td>773.10</td>\n",
              "    </tr>\n",
              "    <tr>\n",
              "      <th>213</th>\n",
              "      <td>213</td>\n",
              "      <td>765.25</td>\n",
              "    </tr>\n",
              "    <tr>\n",
              "      <th>214</th>\n",
              "      <td>214</td>\n",
              "      <td>767.00</td>\n",
              "    </tr>\n",
              "    <tr>\n",
              "      <th>215</th>\n",
              "      <td>215</td>\n",
              "      <td>763.80</td>\n",
              "    </tr>\n",
              "    <tr>\n",
              "      <th>216</th>\n",
              "      <td>216</td>\n",
              "      <td>691.10</td>\n",
              "    </tr>\n",
              "    <tr>\n",
              "      <th>217</th>\n",
              "      <td>217</td>\n",
              "      <td>630.00</td>\n",
              "    </tr>\n",
              "    <tr>\n",
              "      <th>218</th>\n",
              "      <td>218</td>\n",
              "      <td>650.00</td>\n",
              "    </tr>\n",
              "    <tr>\n",
              "      <th>219</th>\n",
              "      <td>219</td>\n",
              "      <td>647.00</td>\n",
              "    </tr>\n",
              "    <tr>\n",
              "      <th>220</th>\n",
              "      <td>220</td>\n",
              "      <td>651.10</td>\n",
              "    </tr>\n",
              "    <tr>\n",
              "      <th>221</th>\n",
              "      <td>221</td>\n",
              "      <td>651.00</td>\n",
              "    </tr>\n",
              "    <tr>\n",
              "      <th>222</th>\n",
              "      <td>222</td>\n",
              "      <td>660.40</td>\n",
              "    </tr>\n",
              "    <tr>\n",
              "      <th>223</th>\n",
              "      <td>223</td>\n",
              "      <td>668.40</td>\n",
              "    </tr>\n",
              "    <tr>\n",
              "      <th>224</th>\n",
              "      <td>224</td>\n",
              "      <td>690.00</td>\n",
              "    </tr>\n",
              "    <tr>\n",
              "      <th>225</th>\n",
              "      <td>225</td>\n",
              "      <td>681.80</td>\n",
              "    </tr>\n",
              "    <tr>\n",
              "      <th>226</th>\n",
              "      <td>226</td>\n",
              "      <td>708.75</td>\n",
              "    </tr>\n",
              "    <tr>\n",
              "      <th>227</th>\n",
              "      <td>227</td>\n",
              "      <td>695.80</td>\n",
              "    </tr>\n",
              "    <tr>\n",
              "      <th>228</th>\n",
              "      <td>228</td>\n",
              "      <td>717.00</td>\n",
              "    </tr>\n",
              "    <tr>\n",
              "      <th>229</th>\n",
              "      <td>229</td>\n",
              "      <td>722.00</td>\n",
              "    </tr>\n",
              "    <tr>\n",
              "      <th>230</th>\n",
              "      <td>230</td>\n",
              "      <td>698.90</td>\n",
              "    </tr>\n",
              "    <tr>\n",
              "      <th>231</th>\n",
              "      <td>231</td>\n",
              "      <td>696.50</td>\n",
              "    </tr>\n",
              "    <tr>\n",
              "      <th>232</th>\n",
              "      <td>232</td>\n",
              "      <td>696.35</td>\n",
              "    </tr>\n",
              "    <tr>\n",
              "      <th>233</th>\n",
              "      <td>233</td>\n",
              "      <td>709.05</td>\n",
              "    </tr>\n",
              "    <tr>\n",
              "      <th>234</th>\n",
              "      <td>234</td>\n",
              "      <td>705.00</td>\n",
              "    </tr>\n",
              "    <tr>\n",
              "      <th>235</th>\n",
              "      <td>235</td>\n",
              "      <td>709.90</td>\n",
              "    </tr>\n",
              "    <tr>\n",
              "      <th>236</th>\n",
              "      <td>236</td>\n",
              "      <td>712.80</td>\n",
              "    </tr>\n",
              "    <tr>\n",
              "      <th>237</th>\n",
              "      <td>237</td>\n",
              "      <td>715.50</td>\n",
              "    </tr>\n",
              "    <tr>\n",
              "      <th>238</th>\n",
              "      <td>238</td>\n",
              "      <td>711.75</td>\n",
              "    </tr>\n",
              "    <tr>\n",
              "      <th>239</th>\n",
              "      <td>239</td>\n",
              "      <td>693.35</td>\n",
              "    </tr>\n",
              "    <tr>\n",
              "      <th>240</th>\n",
              "      <td>240</td>\n",
              "      <td>705.00</td>\n",
              "    </tr>\n",
              "    <tr>\n",
              "      <th>241</th>\n",
              "      <td>241</td>\n",
              "      <td>694.25</td>\n",
              "    </tr>\n",
              "  </tbody>\n",
              "</table>\n",
              "</div>"
            ],
            "text/plain": [
              "     Date    Open\n",
              "193   193  832.05\n",
              "194   194  831.50\n",
              "195   195  829.90\n",
              "196   196  824.85\n",
              "197   197  822.90\n",
              "198   198  806.90\n",
              "199   199  765.00\n",
              "200   200  787.70\n",
              "201   201  787.75\n",
              "202   202  787.05\n",
              "203   203  785.10\n",
              "204   204  807.00\n",
              "205   205  792.55\n",
              "206   206  790.00\n",
              "207   207  794.85\n",
              "208   208  795.45\n",
              "209   209  785.40\n",
              "210   210  781.50\n",
              "211   211  786.75\n",
              "212   212  773.10\n",
              "213   213  765.25\n",
              "214   214  767.00\n",
              "215   215  763.80\n",
              "216   216  691.10\n",
              "217   217  630.00\n",
              "218   218  650.00\n",
              "219   219  647.00\n",
              "220   220  651.10\n",
              "221   221  651.00\n",
              "222   222  660.40\n",
              "223   223  668.40\n",
              "224   224  690.00\n",
              "225   225  681.80\n",
              "226   226  708.75\n",
              "227   227  695.80\n",
              "228   228  717.00\n",
              "229   229  722.00\n",
              "230   230  698.90\n",
              "231   231  696.50\n",
              "232   232  696.35\n",
              "233   233  709.05\n",
              "234   234  705.00\n",
              "235   235  709.90\n",
              "236   236  712.80\n",
              "237   237  715.50\n",
              "238   238  711.75\n",
              "239   239  693.35\n",
              "240   240  705.00\n",
              "241   241  694.25"
            ]
          },
          "metadata": {
            "tags": []
          },
          "execution_count": 38
        }
      ]
    },
    {
      "cell_type": "code",
      "metadata": {
        "id": "b2kwS8uSQsWp",
        "colab_type": "code",
        "colab": {
          "base_uri": "https://localhost:8080/",
          "height": 283
        },
        "outputId": "7909b17e-937e-42f0-f4df-e3ce509074cd"
      },
      "source": [
        "x_train=train['Date'].values.reshape(-1,1)\n",
        "y_train=train['Open'].values.reshape(-1,1)\n",
        "x_test=test['Date'].values.reshape(-1,1)\n",
        "y_test=test['Open'].values.reshape(-1,1)\n",
        "plt.scatter(x_train,y_train)"
      ],
      "execution_count": 39,
      "outputs": [
        {
          "output_type": "execute_result",
          "data": {
            "text/plain": [
              "<matplotlib.collections.PathCollection at 0x7f9f3eee3828>"
            ]
          },
          "metadata": {
            "tags": []
          },
          "execution_count": 39
        },
        {
          "output_type": "display_data",
          "data": {
            "image/png": "[encoded data removed]",
            "text/plain": [
              "<Figure size 432x288 with 1 Axes>"
            ]
          },
          "metadata": {
            "tags": []
          }
        }
      ]
    },
    {
      "cell_type": "code",
      "metadata": {
        "id": "K7mf0hDSQ8_h",
        "colab_type": "code",
        "colab": {}
      },
      "source": [
        "\n",
        "model=LinearRegression()\n",
        "dates=data['Date'].values.reshape(-1,1)\n",
        "Open=data['Open'].values.reshape(-1,1)\n",
        "model.fit(dates,Open)\n",
        "#model.fit(x_train,y_train)\n",
        "y_pred=model.predict(x_test)"
      ],
      "execution_count": 0,
      "outputs": []
    },
    {
      "cell_type": "code",
      "metadata": {
        "id": "_DVDR_KnRfsG",
        "colab_type": "code",
        "colab": {
          "base_uri": "https://localhost:8080/",
          "height": 1000
        },
        "outputId": "c6da5d7b-50b7-40cf-fbdb-0715eea51e30"
      },
      "source": [
        "df1=pd.DataFrame({'Actual':y_test.flatten(),'Predicted':y_pred.flatten()})\n",
        "#df1=pd.DataFrame({'Actual':test_val,'Predicted':prediction})\n",
        "df1\n"
      ],
      "execution_count": 41,
      "outputs": [
        {
          "output_type": "execute_result",
          "data": {
            "text/html": [
              "<div>\n",
              "<style scoped>\n",
              "    .dataframe tbody tr th:only-of-type {\n",
              "        vertical-align: middle;\n",
              "    }\n",
              "\n",
              "    .dataframe tbody tr th {\n",
              "        vertical-align: top;\n",
              "    }\n",
              "\n",
              "    .dataframe thead th {\n",
              "        text-align: right;\n",
              "    }\n",
              "</style>\n",
              "<table border=\"1\" class=\"dataframe\">\n",
              "  <thead>\n",
              "    <tr style=\"text-align: right;\">\n",
              "      <th></th>\n",
              "      <th>Actual</th>\n",
              "      <th>Predicted</th>\n",
              "    </tr>\n",
              "  </thead>\n",
              "  <tbody>\n",
              "    <tr>\n",
              "      <th>0</th>\n",
              "      <td>832.05</td>\n",
              "      <td>756.806026</td>\n",
              "    </tr>\n",
              "    <tr>\n",
              "      <th>1</th>\n",
              "      <td>831.50</td>\n",
              "      <td>757.091285</td>\n",
              "    </tr>\n",
              "    <tr>\n",
              "      <th>2</th>\n",
              "      <td>829.90</td>\n",
              "      <td>757.376543</td>\n",
              "    </tr>\n",
              "    <tr>\n",
              "      <th>3</th>\n",
              "      <td>824.85</td>\n",
              "      <td>757.661801</td>\n",
              "    </tr>\n",
              "    <tr>\n",
              "      <th>4</th>\n",
              "      <td>822.90</td>\n",
              "      <td>757.947060</td>\n",
              "    </tr>\n",
              "    <tr>\n",
              "      <th>5</th>\n",
              "      <td>806.90</td>\n",
              "      <td>758.232318</td>\n",
              "    </tr>\n",
              "    <tr>\n",
              "      <th>6</th>\n",
              "      <td>765.00</td>\n",
              "      <td>758.517577</td>\n",
              "    </tr>\n",
              "    <tr>\n",
              "      <th>7</th>\n",
              "      <td>787.70</td>\n",
              "      <td>758.802835</td>\n",
              "    </tr>\n",
              "    <tr>\n",
              "      <th>8</th>\n",
              "      <td>787.75</td>\n",
              "      <td>759.088093</td>\n",
              "    </tr>\n",
              "    <tr>\n",
              "      <th>9</th>\n",
              "      <td>787.05</td>\n",
              "      <td>759.373352</td>\n",
              "    </tr>\n",
              "    <tr>\n",
              "      <th>10</th>\n",
              "      <td>785.10</td>\n",
              "      <td>759.658610</td>\n",
              "    </tr>\n",
              "    <tr>\n",
              "      <th>11</th>\n",
              "      <td>807.00</td>\n",
              "      <td>759.943869</td>\n",
              "    </tr>\n",
              "    <tr>\n",
              "      <th>12</th>\n",
              "      <td>792.55</td>\n",
              "      <td>760.229127</td>\n",
              "    </tr>\n",
              "    <tr>\n",
              "      <th>13</th>\n",
              "      <td>790.00</td>\n",
              "      <td>760.514385</td>\n",
              "    </tr>\n",
              "    <tr>\n",
              "      <th>14</th>\n",
              "      <td>794.85</td>\n",
              "      <td>760.799644</td>\n",
              "    </tr>\n",
              "    <tr>\n",
              "      <th>15</th>\n",
              "      <td>795.45</td>\n",
              "      <td>761.084902</td>\n",
              "    </tr>\n",
              "    <tr>\n",
              "      <th>16</th>\n",
              "      <td>785.40</td>\n",
              "      <td>761.370160</td>\n",
              "    </tr>\n",
              "    <tr>\n",
              "      <th>17</th>\n",
              "      <td>781.50</td>\n",
              "      <td>761.655419</td>\n",
              "    </tr>\n",
              "    <tr>\n",
              "      <th>18</th>\n",
              "      <td>786.75</td>\n",
              "      <td>761.940677</td>\n",
              "    </tr>\n",
              "    <tr>\n",
              "      <th>19</th>\n",
              "      <td>773.10</td>\n",
              "      <td>762.225936</td>\n",
              "    </tr>\n",
              "    <tr>\n",
              "      <th>20</th>\n",
              "      <td>765.25</td>\n",
              "      <td>762.511194</td>\n",
              "    </tr>\n",
              "    <tr>\n",
              "      <th>21</th>\n",
              "      <td>767.00</td>\n",
              "      <td>762.796452</td>\n",
              "    </tr>\n",
              "    <tr>\n",
              "      <th>22</th>\n",
              "      <td>763.80</td>\n",
              "      <td>763.081711</td>\n",
              "    </tr>\n",
              "    <tr>\n",
              "      <th>23</th>\n",
              "      <td>691.10</td>\n",
              "      <td>763.366969</td>\n",
              "    </tr>\n",
              "    <tr>\n",
              "      <th>24</th>\n",
              "      <td>630.00</td>\n",
              "      <td>763.652228</td>\n",
              "    </tr>\n",
              "    <tr>\n",
              "      <th>25</th>\n",
              "      <td>650.00</td>\n",
              "      <td>763.937486</td>\n",
              "    </tr>\n",
              "    <tr>\n",
              "      <th>26</th>\n",
              "      <td>647.00</td>\n",
              "      <td>764.222744</td>\n",
              "    </tr>\n",
              "    <tr>\n",
              "      <th>27</th>\n",
              "      <td>651.10</td>\n",
              "      <td>764.508003</td>\n",
              "    </tr>\n",
              "    <tr>\n",
              "      <th>28</th>\n",
              "      <td>651.00</td>\n",
              "      <td>764.793261</td>\n",
              "    </tr>\n",
              "    <tr>\n",
              "      <th>29</th>\n",
              "      <td>660.40</td>\n",
              "      <td>765.078519</td>\n",
              "    </tr>\n",
              "    <tr>\n",
              "      <th>30</th>\n",
              "      <td>668.40</td>\n",
              "      <td>765.363778</td>\n",
              "    </tr>\n",
              "    <tr>\n",
              "      <th>31</th>\n",
              "      <td>690.00</td>\n",
              "      <td>765.649036</td>\n",
              "    </tr>\n",
              "    <tr>\n",
              "      <th>32</th>\n",
              "      <td>681.80</td>\n",
              "      <td>765.934295</td>\n",
              "    </tr>\n",
              "    <tr>\n",
              "      <th>33</th>\n",
              "      <td>708.75</td>\n",
              "      <td>766.219553</td>\n",
              "    </tr>\n",
              "    <tr>\n",
              "      <th>34</th>\n",
              "      <td>695.80</td>\n",
              "      <td>766.504811</td>\n",
              "    </tr>\n",
              "    <tr>\n",
              "      <th>35</th>\n",
              "      <td>717.00</td>\n",
              "      <td>766.790070</td>\n",
              "    </tr>\n",
              "    <tr>\n",
              "      <th>36</th>\n",
              "      <td>722.00</td>\n",
              "      <td>767.075328</td>\n",
              "    </tr>\n",
              "    <tr>\n",
              "      <th>37</th>\n",
              "      <td>698.90</td>\n",
              "      <td>767.360587</td>\n",
              "    </tr>\n",
              "    <tr>\n",
              "      <th>38</th>\n",
              "      <td>696.50</td>\n",
              "      <td>767.645845</td>\n",
              "    </tr>\n",
              "    <tr>\n",
              "      <th>39</th>\n",
              "      <td>696.35</td>\n",
              "      <td>767.931103</td>\n",
              "    </tr>\n",
              "    <tr>\n",
              "      <th>40</th>\n",
              "      <td>709.05</td>\n",
              "      <td>768.216362</td>\n",
              "    </tr>\n",
              "    <tr>\n",
              "      <th>41</th>\n",
              "      <td>705.00</td>\n",
              "      <td>768.501620</td>\n",
              "    </tr>\n",
              "    <tr>\n",
              "      <th>42</th>\n",
              "      <td>709.90</td>\n",
              "      <td>768.786878</td>\n",
              "    </tr>\n",
              "    <tr>\n",
              "      <th>43</th>\n",
              "      <td>712.80</td>\n",
              "      <td>769.072137</td>\n",
              "    </tr>\n",
              "    <tr>\n",
              "      <th>44</th>\n",
              "      <td>715.50</td>\n",
              "      <td>769.357395</td>\n",
              "    </tr>\n",
              "    <tr>\n",
              "      <th>45</th>\n",
              "      <td>711.75</td>\n",
              "      <td>769.642654</td>\n",
              "    </tr>\n",
              "    <tr>\n",
              "      <th>46</th>\n",
              "      <td>693.35</td>\n",
              "      <td>769.927912</td>\n",
              "    </tr>\n",
              "    <tr>\n",
              "      <th>47</th>\n",
              "      <td>705.00</td>\n",
              "      <td>770.213170</td>\n",
              "    </tr>\n",
              "    <tr>\n",
              "      <th>48</th>\n",
              "      <td>694.25</td>\n",
              "      <td>770.498429</td>\n",
              "    </tr>\n",
              "  </tbody>\n",
              "</table>\n",
              "</div>"
            ],
            "text/plain": [
              "    Actual   Predicted\n",
              "0   832.05  756.806026\n",
              "1   831.50  757.091285\n",
              "2   829.90  757.376543\n",
              "3   824.85  757.661801\n",
              "4   822.90  757.947060\n",
              "5   806.90  758.232318\n",
              "6   765.00  758.517577\n",
              "7   787.70  758.802835\n",
              "8   787.75  759.088093\n",
              "9   787.05  759.373352\n",
              "10  785.10  759.658610\n",
              "11  807.00  759.943869\n",
              "12  792.55  760.229127\n",
              "13  790.00  760.514385\n",
              "14  794.85  760.799644\n",
              "15  795.45  761.084902\n",
              "16  785.40  761.370160\n",
              "17  781.50  761.655419\n",
              "18  786.75  761.940677\n",
              "19  773.10  762.225936\n",
              "20  765.25  762.511194\n",
              "21  767.00  762.796452\n",
              "22  763.80  763.081711\n",
              "23  691.10  763.366969\n",
              "24  630.00  763.652228\n",
              "25  650.00  763.937486\n",
              "26  647.00  764.222744\n",
              "27  651.10  764.508003\n",
              "28  651.00  764.793261\n",
              "29  660.40  765.078519\n",
              "30  668.40  765.363778\n",
              "31  690.00  765.649036\n",
              "32  681.80  765.934295\n",
              "33  708.75  766.219553\n",
              "34  695.80  766.504811\n",
              "35  717.00  766.790070\n",
              "36  722.00  767.075328\n",
              "37  698.90  767.360587\n",
              "38  696.50  767.645845\n",
              "39  696.35  767.931103\n",
              "40  709.05  768.216362\n",
              "41  705.00  768.501620\n",
              "42  709.90  768.786878\n",
              "43  712.80  769.072137\n",
              "44  715.50  769.357395\n",
              "45  711.75  769.642654\n",
              "46  693.35  769.927912\n",
              "47  705.00  770.213170\n",
              "48  694.25  770.498429"
            ]
          },
          "metadata": {
            "tags": []
          },
          "execution_count": 41
        }
      ]
    },
    {
      "cell_type": "code",
      "metadata": {
        "id": "Z00MTneXRryD",
        "colab_type": "code",
        "colab": {
          "base_uri": "https://localhost:8080/",
          "height": 469
        },
        "outputId": "4ce373c8-3602-4744-93cc-0c9c605c6446"
      },
      "source": [
        "plt.plot(x_test,y_test,color='grey')\n",
        "plt.plot(x_test,y_pred,color='red',marker='o')\n",
        "plt.plot(x_test,model.predict(x_test),color='yellow')\n",
        "\n",
        "\n",
        "\n",
        "dataset['Date']"
      ],
      "execution_count": 42,
      "outputs": [
        {
          "output_type": "execute_result",
          "data": {
            "text/plain": [
              "0      11/27/2018\n",
              "1      11/28/2018\n",
              "2      11/29/2018\n",
              "3      11/30/2018\n",
              "4       12/3/2018\n",
              "          ...    \n",
              "237    11/21/2019\n",
              "238    11/22/2019\n",
              "239    11/25/2019\n",
              "240    11/26/2019\n",
              "241    11/27/2019\n",
              "Name: Date, Length: 242, dtype: object"
            ]
          },
          "metadata": {
            "tags": []
          },
          "execution_count": 42
        },
        {
          "output_type": "display_data",
          "data": {
            "image/png": "[encoded data removed]",
            "text/plain": [
              "<Figure size 432x288 with 1 Axes>"
            ]
          },
          "metadata": {
            "tags": []
          }
        }
      ]
    },
    {
      "cell_type": "code",
      "metadata": {
        "id": "-n7GpCqpSAYC",
        "colab_type": "code",
        "colab": {
          "base_uri": "https://localhost:8080/",
          "height": 367
        },
        "outputId": "d7c3528c-7c20-4ee5-c167-195e1fffb895"
      },
      "source": [
        "plt.figure(figsize=(15,5))\n",
        "plt.title(\"Linear Regression Model\")\n",
        "plt.xlabel(\"Date\")\n",
        "plt.ylabel(\"Open Price\")\n",
        "plt.plot(train.index,y_train,\"blue\",label='Training data')\n",
        "plt.plot(test.index,y_test,\"green\",label='Testing data')\n",
        "plt.plot(test.index,y_pred,\"red\",label='Predicted data')\n",
        "plt.xticks(np.arange(0,242,25),dataset['Date'][0:242:25])\n",
        "#plt.plot(test.index,regressor.predict(x_test),\"yellow\")\n",
        "plt.legend()\n",
        "\n"
      ],
      "execution_count": 43,
      "outputs": [
        {
          "output_type": "execute_result",
          "data": {
            "text/plain": [
              "<matplotlib.legend.Legend at 0x7f9f3ee146a0>"
            ]
          },
          "metadata": {
            "tags": []
          },
          "execution_count": 43
        },
        {
          "output_type": "display_data",
          "data": {
            "image/png": "[encoded data removed]",
            "text/plain": [
              "<Figure size 1080x360 with 1 Axes>"
            ]
          },
          "metadata": {
            "tags": []
          }
        }
      ]
    },
    {
      "cell_type": "code",
      "metadata": {
        "id": "2-Tjx2H9SIzh",
        "colab_type": "code",
        "colab": {
          "base_uri": "https://localhost:8080/",
          "height": 85
        },
        "outputId": "23f6a64d-ae10-497b-a3c3-9f08473fa826"
      },
      "source": [
        "\n",
        "r_sq = model.score(x_train, y_train)\n",
        "print('coefficient of determination:', r_sq)\n",
        "print('Slope of model: ',model.coef_)\n",
        "print('Intercept of model: ',model.intercept_)\n",
        "\n",
        "\n",
        "\n",
        "err=metrics.mean_squared_error(y_test,y_pred)\n",
        "print(\"Mean squared error:  \",err)\n"
      ],
      "execution_count": 44,
      "outputs": [
        {
          "output_type": "stream",
          "text": [
            "coefficient of determination: 0.4411117278505826\n",
            "Slope of model:  [[0.28525838]]\n",
            "Intercept of model:  [701.75115805]\n",
            "Mean squared error:   4320.1200433736385\n"
          ],
          "name": "stdout"
        }
      ]
    },
    {
      "cell_type": "code",
      "metadata": {
        "id": "89t-Xy7YSUYi",
        "colab_type": "code",
        "colab": {}
      },
      "source": [
        "import pandas as pd\n",
        "import numpy as np\n",
        "import matplotlib.pyplot as plt\n",
        "from sklearn import metrics\n",
        "from sklearn import neighbors\n",
        "from sklearn.model_selection import GridSearchCV\n",
        "from sklearn.preprocessing import MinMaxScaler\n",
        "scaler=MinMaxScaler(feature_range=(0,1))"
      ],
      "execution_count": 0,
      "outputs": []
    },
    {
      "cell_type": "code",
      "metadata": {
        "id": "dtBOof8ZVxtn",
        "colab_type": "code",
        "colab": {
          "base_uri": "https://localhost:8080/",
          "height": 283
        },
        "outputId": "7a23407c-a69e-452c-da80-ceb32f266e29"
      },
      "source": [
        "train=data[0:int(len(data)*0.8)]\n",
        "test=data[int(len(data)*0.8):]\n",
        "x_train=train['Date'].values.reshape(-1,1)\n",
        "y_train=train['Open'].values.reshape(-1,1)\n",
        "x_test=test['Date'].values.reshape(-1,1)\n",
        "y_test=test['Open'].values.reshape(-1,1)\n",
        "plt.scatter(x_train,y_train)\n"
      ],
      "execution_count": 52,
      "outputs": [
        {
          "output_type": "execute_result",
          "data": {
            "text/plain": [
              "<matplotlib.collections.PathCollection at 0x7f9f3de91b70>"
            ]
          },
          "metadata": {
            "tags": []
          },
          "execution_count": 52
        },
        {
          "output_type": "display_data",
          "data": {
            "image/png": "[encoded data removed]",
            "text/plain": [
              "<Figure size 432x288 with 1 Axes>"
            ]
          },
          "metadata": {
            "tags": []
          }
        }
      ]
    },
    {
      "cell_type": "code",
      "metadata": {
        "id": "O7rVKMMuV4oN",
        "colab_type": "code",
        "colab": {}
      },
      "source": [
        "x_train_scaled=scaler.fit_transform(x_train)\n",
        "xtrain=pd.DataFrame(x_train_scaled)\n",
        "x_test_scaled=scaler.fit_transform(x_test)\n",
        "xtest=pd.DataFrame(x_test_scaled)\n"
      ],
      "execution_count": 0,
      "outputs": []
    },
    {
      "cell_type": "code",
      "metadata": {
        "id": "Sn0xTS-3WHri",
        "colab_type": "code",
        "colab": {}
      },
      "source": [
        "params = {'n_neighbors': [1, 2, 3, 4, 5, 6, 7, 8, 9, 10, 11, 12, 13, 14, 15]}\n",
        "knn = neighbors.KNeighborsRegressor()\n",
        "model = GridSearchCV(knn, params, cv=5)\n",
        "\n",
        "# fitting the model and predicting\n",
        "model.fit(xtrain, y_train)\n",
        "preds = model.predict(xtest)"
      ],
      "execution_count": 0,
      "outputs": []
    },
    {
      "cell_type": "code",
      "metadata": {
        "id": "Bc_NKeydWOsK",
        "colab_type": "code",
        "colab": {
          "base_uri": "https://localhost:8080/",
          "height": 367
        },
        "outputId": "a453d136-a6a9-455f-f308-229b7e969f25"
      },
      "source": [
        "plt.figure(figsize=(15,5))\n",
        "plt.title(\"K nearest neighbour Model\")\n",
        "plt.xlabel(\"Date\")\n",
        "plt.ylabel(\"Open Price\")\n",
        "plt.plot(train.index,y_train,\"blue\",label='Training data')\n",
        "plt.plot(test.index,y_test,\"green\",label='testing data')\n",
        "plt.plot(test.index,preds,\"red\",label='Predicted data')\n",
        "plt.xticks(np.arange(0,242,20),dataset['Date'][0:242:20])\n",
        "plt.legend()"
      ],
      "execution_count": 55,
      "outputs": [
        {
          "output_type": "execute_result",
          "data": {
            "text/plain": [
              "<matplotlib.legend.Legend at 0x7f9f3de03668>"
            ]
          },
          "metadata": {
            "tags": []
          },
          "execution_count": 55
        },
        {
          "output_type": "display_data",
          "data": {
            "image/png": "[encoded data removed]",
            "text/plain": [
              "<Figure size 1080x360 with 1 Axes>"
            ]
          },
          "metadata": {
            "tags": []
          }
        }
      ]
    },
    {
      "cell_type": "code",
      "metadata": {
        "id": "zMqCX1nYWYgg",
        "colab_type": "code",
        "colab": {
          "base_uri": "https://localhost:8080/",
          "height": 51
        },
        "outputId": "e5a309d8-ea03-42d6-df21-b1a4e52493eb"
      },
      "source": [
        "err=metrics.mean_squared_error(y_test,preds)\n",
        "errr2=metrics.mean_squared_error(y_train,model.predict(xtrain))\n",
        "print(\"Testing error\",err)\n",
        "print(\"Training error\",errr2)\n"
      ],
      "execution_count": 56,
      "outputs": [
        {
          "output_type": "stream",
          "text": [
            "Testing error 7384.2091213151925\n",
            "Training error 21.652777777777803\n"
          ],
          "name": "stdout"
        }
      ]
    },
    {
      "cell_type": "code",
      "metadata": {
        "id": "JSbtV2wJWfNJ",
        "colab_type": "code",
        "colab": {
          "base_uri": "https://localhost:8080/",
          "height": 419
        },
        "outputId": "acfcaeee-b303-4ed4-ef59-80025aba9116"
      },
      "source": [
        "xhat=model.predict(xtrain)\n",
        "dat2=pd.DataFrame({'Actual':y_train.flatten(),'Predicted':xhat.flatten()})#on testing\n",
        "dat1=pd.DataFrame({'Actual':y_test.flatten(),'Predicted':preds.flatten()})#on testing\n",
        "dat2"
      ],
      "execution_count": 57,
      "outputs": [
        {
          "output_type": "execute_result",
          "data": {
            "text/html": [
              "<div>\n",
              "<style scoped>\n",
              "    .dataframe tbody tr th:only-of-type {\n",
              "        vertical-align: middle;\n",
              "    }\n",
              "\n",
              "    .dataframe tbody tr th {\n",
              "        vertical-align: top;\n",
              "    }\n",
              "\n",
              "    .dataframe thead th {\n",
              "        text-align: right;\n",
              "    }\n",
              "</style>\n",
              "<table border=\"1\" class=\"dataframe\">\n",
              "  <thead>\n",
              "    <tr style=\"text-align: right;\">\n",
              "      <th></th>\n",
              "      <th>Actual</th>\n",
              "      <th>Predicted</th>\n",
              "    </tr>\n",
              "  </thead>\n",
              "  <tbody>\n",
              "    <tr>\n",
              "      <th>0</th>\n",
              "      <td>625.50</td>\n",
              "      <td>645.816667</td>\n",
              "    </tr>\n",
              "    <tr>\n",
              "      <th>1</th>\n",
              "      <td>640.95</td>\n",
              "      <td>645.816667</td>\n",
              "    </tr>\n",
              "    <tr>\n",
              "      <th>2</th>\n",
              "      <td>671.00</td>\n",
              "      <td>657.650000</td>\n",
              "    </tr>\n",
              "    <tr>\n",
              "      <th>3</th>\n",
              "      <td>661.00</td>\n",
              "      <td>668.383333</td>\n",
              "    </tr>\n",
              "    <tr>\n",
              "      <th>4</th>\n",
              "      <td>673.15</td>\n",
              "      <td>668.900000</td>\n",
              "    </tr>\n",
              "    <tr>\n",
              "      <th>...</th>\n",
              "      <td>...</td>\n",
              "      <td>...</td>\n",
              "    </tr>\n",
              "    <tr>\n",
              "      <th>188</th>\n",
              "      <td>843.30</td>\n",
              "      <td>836.733333</td>\n",
              "    </tr>\n",
              "    <tr>\n",
              "      <th>189</th>\n",
              "      <td>836.80</td>\n",
              "      <td>834.133333</td>\n",
              "    </tr>\n",
              "    <tr>\n",
              "      <th>190</th>\n",
              "      <td>822.30</td>\n",
              "      <td>825.166667</td>\n",
              "    </tr>\n",
              "    <tr>\n",
              "      <th>191</th>\n",
              "      <td>816.40</td>\n",
              "      <td>818.933333</td>\n",
              "    </tr>\n",
              "    <tr>\n",
              "      <th>192</th>\n",
              "      <td>818.10</td>\n",
              "      <td>818.933333</td>\n",
              "    </tr>\n",
              "  </tbody>\n",
              "</table>\n",
              "<p>193 rows × 2 columns</p>\n",
              "</div>"
            ],
            "text/plain": [
              "     Actual   Predicted\n",
              "0    625.50  645.816667\n",
              "1    640.95  645.816667\n",
              "2    671.00  657.650000\n",
              "3    661.00  668.383333\n",
              "4    673.15  668.900000\n",
              "..      ...         ...\n",
              "188  843.30  836.733333\n",
              "189  836.80  834.133333\n",
              "190  822.30  825.166667\n",
              "191  816.40  818.933333\n",
              "192  818.10  818.933333\n",
              "\n",
              "[193 rows x 2 columns]"
            ]
          },
          "metadata": {
            "tags": []
          },
          "execution_count": 57
        }
      ]
    }
  ]
}