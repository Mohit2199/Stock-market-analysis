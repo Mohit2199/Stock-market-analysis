{
  "nbformat": 4,
  "nbformat_minor": 0,
  "metadata": {
    "colab": {
      "name": "Mohitlstm.ipynb",
      "provenance": [],
      "collapsed_sections": []
    },
    "kernelspec": {
      "name": "python3",
      "display_name": "Python 3"
    }
  },
  "cells": [
    {
      "cell_type": "code",
      "metadata": {
        "id": "S4ewYaibiTjz",
        "colab_type": "code",
        "colab": {}
      },
      "source": [
        "import numpy as np\n",
        "import matplotlib.pyplot as plt\n",
        "import pandas as pd"
      ],
      "execution_count": 0,
      "outputs": []
    },
    {
      "cell_type": "code",
      "metadata": {
        "id": "7fGf9Gmpj0Tt",
        "colab_type": "code",
        "outputId": "f1c9f47a-a3db-462b-d43c-7da682324015",
        "colab": {
          "base_uri": "https://localhost:8080/",
          "height": 122
        }
      },
      "source": [
        "from google.colab import drive\n",
        "drive.mount('/content/driver')"
      ],
      "execution_count": 0,
      "outputs": [
        {
          "output_type": "stream",
          "text": [
            "Go to this URL in a browser: https://accounts.google.com/o/oauth2/auth?client_id=947318989803-6bn6qk8qdgf4n4g3pfee6491hc0brc4i.apps.googleusercontent.com&redirect_uri=urn%3aietf%3awg%3aoauth%3a2.0%3aoob&response_type=code&scope=email%20https%3a%2f%2fwww.googleapis.com%2fauth%2fdocs.test%20https%3a%2f%2fwww.googleapis.com%2fauth%2fdrive%20https%3a%2f%2fwww.googleapis.com%2fauth%2fdrive.photos.readonly%20https%3a%2f%2fwww.googleapis.com%2fauth%2fpeopleapi.readonly\n",
            "\n",
            "Enter your authorization code:\n",
            "··········\n",
            "Mounted at /content/driver\n"
          ],
          "name": "stdout"
        }
      ]
    },
    {
      "cell_type": "code",
      "metadata": {
        "id": "AvlL0yESnrmC",
        "colab_type": "code",
        "colab": {}
      },
      "source": [
        "dataset_train = pd.read_csv(\"/content/driver/My Drive/info1.csv\")\n",
        "training_set = dataset_train.iloc[:,1:2].values\n"
      ],
      "execution_count": 0,
      "outputs": []
    },
    {
      "cell_type": "code",
      "metadata": {
        "id": "Pdzbr_6K7LjQ",
        "colab_type": "code",
        "outputId": "207cff8f-8037-4517-8616-7eebd22e9ecf",
        "colab": {
          "base_uri": "https://localhost:8080/",
          "height": 34
        }
      },
      "source": [
        "dataset_train.shape"
      ],
      "execution_count": 0,
      "outputs": [
        {
          "output_type": "execute_result",
          "data": {
            "text/plain": [
              "(242, 7)"
            ]
          },
          "metadata": {
            "tags": []
          },
          "execution_count": 4
        }
      ]
    },
    {
      "cell_type": "code",
      "metadata": {
        "id": "xdX43VKhqNZf",
        "colab_type": "code",
        "colab": {}
      },
      "source": [
        "from sklearn.preprocessing import MinMaxScaler\n",
        "sc = MinMaxScaler(feature_range = (0, 1))\n",
        "training_set_scaled = sc.fit_transform(training_set)"
      ],
      "execution_count": 0,
      "outputs": []
    },
    {
      "cell_type": "code",
      "metadata": {
        "id": "zljPh-IFvl-y",
        "colab_type": "code",
        "colab": {}
      },
      "source": [
        "X_train = []\n",
        "Y_train = []\n",
        "for i in range(60, len(training_set_scaled)):\n",
        "  X_train.append(training_set_scaled[i-60:i, 0])\n",
        "  Y_train.append(training_set_scaled[i, 0])\n",
        "X_train, Y_train = np.array(X_train), np.array(Y_train)  \n"
      ],
      "execution_count": 0,
      "outputs": []
    },
    {
      "cell_type": "code",
      "metadata": {
        "id": "yTU1kGLYBv1F",
        "colab_type": "code",
        "colab": {}
      },
      "source": [
        "X_train = np.reshape(X_train, (X_train.shape[0], X_train.shape[1], 1))"
      ],
      "execution_count": 0,
      "outputs": []
    },
    {
      "cell_type": "code",
      "metadata": {
        "id": "Tea1Nssv0zED",
        "colab_type": "code",
        "colab": {}
      },
      "source": [
        "from keras.models import Sequential\n",
        "from keras.layers import Dense\n",
        "from keras.layers import LSTM\n",
        "from keras.layers import Dropout"
      ],
      "execution_count": 0,
      "outputs": []
    },
    {
      "cell_type": "code",
      "metadata": {
        "id": "Pa_Oxlaw1zoI",
        "colab_type": "code",
        "colab": {}
      },
      "source": [
        "regressor = Sequential()"
      ],
      "execution_count": 0,
      "outputs": []
    },
    {
      "cell_type": "code",
      "metadata": {
        "id": "aj-bWdiu3BcN",
        "colab_type": "code",
        "colab": {}
      },
      "source": [
        "regressor.add(LSTM(units = 50, return_sequences = True, input_shape = (X_train.shape[1], 1)))\n",
        "regressor.add(Dropout(0.2))"
      ],
      "execution_count": 0,
      "outputs": []
    },
    {
      "cell_type": "code",
      "metadata": {
        "id": "Htc2PZAQ5FkL",
        "colab_type": "code",
        "colab": {}
      },
      "source": [
        "regressor.add(LSTM(units = 50, return_sequences = True))\n",
        "regressor.add(Dropout(0.2))"
      ],
      "execution_count": 0,
      "outputs": []
    },
    {
      "cell_type": "code",
      "metadata": {
        "id": "AN4zjrB-6e2v",
        "colab_type": "code",
        "colab": {}
      },
      "source": [
        "regressor.add(LSTM(units = 50, return_sequences = True))\n",
        "regressor.add(Dropout(0.2))"
      ],
      "execution_count": 0,
      "outputs": []
    },
    {
      "cell_type": "code",
      "metadata": {
        "id": "XAcQ9EIc69JF",
        "colab_type": "code",
        "colab": {}
      },
      "source": [
        "regressor.add(LSTM(units = 50))\n",
        "regressor.add(Dropout(0.2))\n"
      ],
      "execution_count": 0,
      "outputs": []
    },
    {
      "cell_type": "code",
      "metadata": {
        "id": "PASynktJ7yVE",
        "colab_type": "code",
        "colab": {}
      },
      "source": [
        "regressor.add(Dense(units = 1))"
      ],
      "execution_count": 0,
      "outputs": []
    },
    {
      "cell_type": "code",
      "metadata": {
        "id": "djqwVQ3o8pMA",
        "colab_type": "code",
        "colab": {}
      },
      "source": [
        "regressor.compile(optimizer = 'adam', loss = 'mean_squared_error')"
      ],
      "execution_count": 0,
      "outputs": []
    },
    {
      "cell_type": "code",
      "metadata": {
        "id": "rfku4-HvMROe",
        "colab_type": "code",
        "outputId": "f75075cc-bce0-4e59-ab1e-7c0e3adcb8a2",
        "colab": {
          "base_uri": "https://localhost:8080/",
          "height": 1000
        }
      },
      "source": [
        "regressor.fit(X_train, Y_train, epochs = 50, batch_size = 32)"
      ],
      "execution_count": 0,
      "outputs": [
        {
          "output_type": "stream",
          "text": [
            "WARNING:tensorflow:From /usr/local/lib/python3.6/dist-packages/tensorflow_core/python/ops/math_grad.py:1424: where (from tensorflow.python.ops.array_ops) is deprecated and will be removed in a future version.\n",
            "Instructions for updating:\n",
            "Use tf.where in 2.0, which has the same broadcast rule as np.where\n",
            "WARNING:tensorflow:From /usr/local/lib/python3.6/dist-packages/keras/backend/tensorflow_backend.py:1033: The name tf.assign_add is deprecated. Please use tf.compat.v1.assign_add instead.\n",
            "\n",
            "WARNING:tensorflow:From /usr/local/lib/python3.6/dist-packages/keras/backend/tensorflow_backend.py:1020: The name tf.assign is deprecated. Please use tf.compat.v1.assign instead.\n",
            "\n",
            "WARNING:tensorflow:From /usr/local/lib/python3.6/dist-packages/keras/backend/tensorflow_backend.py:3005: The name tf.Session is deprecated. Please use tf.compat.v1.Session instead.\n",
            "\n",
            "Epoch 1/50\n",
            "WARNING:tensorflow:From /usr/local/lib/python3.6/dist-packages/keras/backend/tensorflow_backend.py:190: The name tf.get_default_session is deprecated. Please use tf.compat.v1.get_default_session instead.\n",
            "\n",
            "WARNING:tensorflow:From /usr/local/lib/python3.6/dist-packages/keras/backend/tensorflow_backend.py:197: The name tf.ConfigProto is deprecated. Please use tf.compat.v1.ConfigProto instead.\n",
            "\n",
            "WARNING:tensorflow:From /usr/local/lib/python3.6/dist-packages/keras/backend/tensorflow_backend.py:207: The name tf.global_variables is deprecated. Please use tf.compat.v1.global_variables instead.\n",
            "\n",
            "WARNING:tensorflow:From /usr/local/lib/python3.6/dist-packages/keras/backend/tensorflow_backend.py:216: The name tf.is_variable_initialized is deprecated. Please use tf.compat.v1.is_variable_initialized instead.\n",
            "\n",
            "WARNING:tensorflow:From /usr/local/lib/python3.6/dist-packages/keras/backend/tensorflow_backend.py:223: The name tf.variables_initializer is deprecated. Please use tf.compat.v1.variables_initializer instead.\n",
            "\n",
            "182/182 [==============================] - 5s 27ms/step - loss: 0.2175\n",
            "Epoch 2/50\n",
            "182/182 [==============================] - 1s 8ms/step - loss: 0.0522\n",
            "Epoch 3/50\n",
            "182/182 [==============================] - 1s 7ms/step - loss: 0.0434\n",
            "Epoch 4/50\n",
            "182/182 [==============================] - 1s 7ms/step - loss: 0.0404\n",
            "Epoch 5/50\n",
            "182/182 [==============================] - 1s 7ms/step - loss: 0.0395\n",
            "Epoch 6/50\n",
            "182/182 [==============================] - 1s 7ms/step - loss: 0.0359\n",
            "Epoch 7/50\n",
            "182/182 [==============================] - 1s 7ms/step - loss: 0.0339\n",
            "Epoch 8/50\n",
            "182/182 [==============================] - 1s 7ms/step - loss: 0.0347\n",
            "Epoch 9/50\n",
            "182/182 [==============================] - 1s 7ms/step - loss: 0.0363\n",
            "Epoch 10/50\n",
            "182/182 [==============================] - 1s 7ms/step - loss: 0.0321\n",
            "Epoch 11/50\n",
            "182/182 [==============================] - 1s 7ms/step - loss: 0.0292\n",
            "Epoch 12/50\n",
            "182/182 [==============================] - 1s 7ms/step - loss: 0.0326\n",
            "Epoch 13/50\n",
            "182/182 [==============================] - 1s 7ms/step - loss: 0.0335\n",
            "Epoch 14/50\n",
            "182/182 [==============================] - 1s 7ms/step - loss: 0.0300\n",
            "Epoch 15/50\n",
            "182/182 [==============================] - 1s 7ms/step - loss: 0.0295\n",
            "Epoch 16/50\n",
            "182/182 [==============================] - 1s 8ms/step - loss: 0.0294\n",
            "Epoch 17/50\n",
            "182/182 [==============================] - 1s 8ms/step - loss: 0.0306\n",
            "Epoch 18/50\n",
            "182/182 [==============================] - 1s 7ms/step - loss: 0.0276\n",
            "Epoch 19/50\n",
            "182/182 [==============================] - 1s 7ms/step - loss: 0.0305\n",
            "Epoch 20/50\n",
            "182/182 [==============================] - 1s 7ms/step - loss: 0.0367\n",
            "Epoch 21/50\n",
            "182/182 [==============================] - 1s 7ms/step - loss: 0.0288\n",
            "Epoch 22/50\n",
            "182/182 [==============================] - 1s 7ms/step - loss: 0.0271\n",
            "Epoch 23/50\n",
            "182/182 [==============================] - 1s 7ms/step - loss: 0.0256\n",
            "Epoch 24/50\n",
            "182/182 [==============================] - 1s 8ms/step - loss: 0.0254\n",
            "Epoch 25/50\n",
            "182/182 [==============================] - 1s 8ms/step - loss: 0.0242\n",
            "Epoch 26/50\n",
            "182/182 [==============================] - 1s 7ms/step - loss: 0.0226\n",
            "Epoch 27/50\n",
            "182/182 [==============================] - 1s 7ms/step - loss: 0.0213\n",
            "Epoch 28/50\n",
            "182/182 [==============================] - 1s 7ms/step - loss: 0.0291\n",
            "Epoch 29/50\n",
            "182/182 [==============================] - 1s 7ms/step - loss: 0.0275\n",
            "Epoch 30/50\n",
            "182/182 [==============================] - 1s 7ms/step - loss: 0.0225\n",
            "Epoch 31/50\n",
            "182/182 [==============================] - 1s 7ms/step - loss: 0.0234\n",
            "Epoch 32/50\n",
            "182/182 [==============================] - 1s 7ms/step - loss: 0.0262\n",
            "Epoch 33/50\n",
            "182/182 [==============================] - 1s 8ms/step - loss: 0.0231\n",
            "Epoch 34/50\n",
            "182/182 [==============================] - 1s 7ms/step - loss: 0.0241\n",
            "Epoch 35/50\n",
            "182/182 [==============================] - 1s 7ms/step - loss: 0.0202\n",
            "Epoch 36/50\n",
            "182/182 [==============================] - 1s 8ms/step - loss: 0.0250\n",
            "Epoch 37/50\n",
            "182/182 [==============================] - 1s 8ms/step - loss: 0.0214\n",
            "Epoch 38/50\n",
            "182/182 [==============================] - 1s 7ms/step - loss: 0.0241\n",
            "Epoch 39/50\n",
            "182/182 [==============================] - 1s 7ms/step - loss: 0.0208\n",
            "Epoch 40/50\n",
            "182/182 [==============================] - 1s 7ms/step - loss: 0.0171\n",
            "Epoch 41/50\n",
            "182/182 [==============================] - 1s 7ms/step - loss: 0.0213\n",
            "Epoch 42/50\n",
            "182/182 [==============================] - 1s 7ms/step - loss: 0.0218\n",
            "Epoch 43/50\n",
            "182/182 [==============================] - 1s 7ms/step - loss: 0.0203\n",
            "Epoch 44/50\n",
            "182/182 [==============================] - 1s 7ms/step - loss: 0.0169\n",
            "Epoch 45/50\n",
            "182/182 [==============================] - 1s 7ms/step - loss: 0.0196\n",
            "Epoch 46/50\n",
            "182/182 [==============================] - 1s 8ms/step - loss: 0.0213\n",
            "Epoch 47/50\n",
            "182/182 [==============================] - 1s 7ms/step - loss: 0.0184\n",
            "Epoch 48/50\n",
            "182/182 [==============================] - 1s 8ms/step - loss: 0.0184\n",
            "Epoch 49/50\n",
            "182/182 [==============================] - 1s 8ms/step - loss: 0.0169\n",
            "Epoch 50/50\n",
            "182/182 [==============================] - 1s 7ms/step - loss: 0.0177\n"
          ],
          "name": "stdout"
        },
        {
          "output_type": "execute_result",
          "data": {
            "text/plain": [
              "<keras.callbacks.History at 0x7fa1e39071d0>"
            ]
          },
          "metadata": {
            "tags": []
          },
          "execution_count": 19
        }
      ]
    },
    {
      "cell_type": "code",
      "metadata": {
        "id": "xXgsQnm-PqzR",
        "colab_type": "code",
        "colab": {}
      },
      "source": [
        "dataset_test = pd.read_csv(\"/content/driver/My Drive/info1.csv\")\n",
        "real_stock_price = dataset_test.iloc[:, 1:2].values"
      ],
      "execution_count": 0,
      "outputs": []
    },
    {
      "cell_type": "code",
      "metadata": {
        "id": "hdRapInjXCLT",
        "colab_type": "code",
        "colab": {}
      },
      "source": [
        "dataset_total = pd.concat((dataset_train['Open'], dataset_test['Open']), axis = 0)\n",
        "inputs = dataset_total[len(dataset_total) - len(dataset_test) - 60:].values\n",
        "inputs = inputs.reshape(-1,1)\n",
        "inputs = sc.transform(inputs)\n",
        "X_test = []\n",
        "for i in range(60,250):\n",
        "  X_test.append(inputs[i-60:i, 0])\n",
        "X_test = np.array(X_test)\n",
        "X_test = np.reshape(X_test, (X_test.shape[0], X_test.shape[1], 1))\n",
        "predicted_stock_price = regressor.predict(X_test)\n",
        "predicted_stock_price = sc.inverse_transform(predicted_stock_price)"
      ],
      "execution_count": 0,
      "outputs": []
    },
    {
      "cell_type": "code",
      "metadata": {
        "id": "sZrtY-0soDqb",
        "colab_type": "code",
        "outputId": "c68e8378-3aec-42b4-ee00-ce7aee02051e",
        "colab": {
          "base_uri": "https://localhost:8080/",
          "height": 295
        }
      },
      "source": [
        "plt.plot(real_stock_price, color = 'red', label = 'Real infosys stock price')\n",
        "plt.plot(predicted_stock_price, color = 'blue', label = 'Predicted infosys stock price')\n",
        "plt.title('infosys stock price prediction')\n",
        "plt.xlabel('Date')\n",
        "plt.xticks(np.arange(0,242,50),dataset_train['Date'][0:242:50])\n",
        "plt.ylabel('infosys stock price')\n",
        "plt.legend()\n",
        "plt.show()"
      ],
      "execution_count": 0,
      "outputs": [
        {
          "output_type": "display_data",
          "data": {
            "image/png": "[encoded data removed]",
            "text/plain": [
              "<Figure size 432x288 with 1 Axes>"
            ]
          },
          "metadata": {
            "tags": []
          }
        }
      ]
    },
    {
      "cell_type": "code",
      "metadata": {
        "id": "uAQyig8gRrwU",
        "colab_type": "code",
        "colab": {}
      },
      "source": [
        ""
      ],
      "execution_count": 0,
      "outputs": []
    },
    {
      "cell_type": "code",
      "metadata": {
        "id": "FyMFVvyzC01g",
        "colab_type": "code",
        "colab": {}
      },
      "source": [
        "#from sklearn.metrics import mean_squared_error\n",
        "#rm = np.sqrt(mean_squared_error(predicted_stock_price,))\n",
        "#rm"
      ],
      "execution_count": 0,
      "outputs": []
    },
    {
      "cell_type": "code",
      "metadata": {
        "id": "WP35ZiH0tSGQ",
        "colab_type": "code",
        "outputId": "eb821aa7-4247-4a1e-a464-011859682eaa",
        "colab": {
          "base_uri": "https://localhost:8080/",
          "height": 850
        }
      },
      "source": [
        "X_test"
      ],
      "execution_count": 0,
      "outputs": [
        {
          "output_type": "execute_result",
          "data": {
            "text/plain": [
              "array([[[0.74334252],\n",
              "        [0.7805326 ],\n",
              "        [0.84710744],\n",
              "        ...,\n",
              "        [0.31152433],\n",
              "        [0.36501377],\n",
              "        [0.31565657]],\n",
              "\n",
              "       [[0.7805326 ],\n",
              "        [0.84710744],\n",
              "        [0.87006428],\n",
              "        ...,\n",
              "        [0.36501377],\n",
              "        [0.31565657],\n",
              "        [0.        ]],\n",
              "\n",
              "       [[0.84710744],\n",
              "        [0.87006428],\n",
              "        [0.85055096],\n",
              "        ...,\n",
              "        [0.31565657],\n",
              "        [0.        ],\n",
              "        [0.07093664]],\n",
              "\n",
              "       ...,\n",
              "\n",
              "       [[0.5261708 ],\n",
              "        [0.59458219],\n",
              "        [0.60353535],\n",
              "        ...,\n",
              "        [0.84710744],\n",
              "        [0.87006428],\n",
              "        [0.85055096]],\n",
              "\n",
              "       [[0.59458219],\n",
              "        [0.60353535],\n",
              "        [0.52571166],\n",
              "        ...,\n",
              "        [0.87006428],\n",
              "        [0.85055096],\n",
              "        [0.93939394]],\n",
              "\n",
              "       [[0.60353535],\n",
              "        [0.52571166],\n",
              "        [0.54338843],\n",
              "        ...,\n",
              "        [0.85055096],\n",
              "        [0.93939394],\n",
              "        [1.        ]]])"
            ]
          },
          "metadata": {
            "tags": []
          },
          "execution_count": 24
        }
      ]
    }
  ]
}